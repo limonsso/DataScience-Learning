{
 "metadata": {
  "language_info": {
   "codemirror_mode": {
    "name": "ipython",
    "version": 3
   },
   "file_extension": ".py",
   "mimetype": "text/x-python",
   "name": "python",
   "nbconvert_exporter": "python",
   "pygments_lexer": "ipython3",
   "version": "3.9.0-final"
  },
  "orig_nbformat": 2,
  "kernelspec": {
   "name": "python3",
   "display_name": "Python 3",
   "language": "python"
  }
 },
 "nbformat": 4,
 "nbformat_minor": 2,
 "cells": [
  {
   "source": [
    "## Load and review data"
   ],
   "cell_type": "markdown",
   "metadata": {}
  },
  {
   "cell_type": "code",
   "execution_count": 104,
   "metadata": {},
   "outputs": [
    {
     "output_type": "execute_result",
     "data": {
      "text/plain": [
       "(10000, 14)"
      ]
     },
     "metadata": {},
     "execution_count": 104
    }
   ],
   "source": [
    "import pandas as pd\n",
    "import matplotlib.pyplot as plt\n",
    "import plotly.express as px\n",
    "import numpy as np \n",
    "\n",
    "df = pd.read_excel(\"P12-Churn-Modelling.xlsx\", engine='openpyxl')\n",
    "df.shape\n"
   ]
  },
  {
   "cell_type": "code",
   "execution_count": 88,
   "metadata": {},
   "outputs": [
    {
     "output_type": "execute_result",
     "data": {
      "text/plain": [
       "   RowNumber  CustomerId   Surname  CreditScore Geography  Gender  Age  \\\n",
       "0          1    15634602  Hargrave          619    France  Female   42   \n",
       "1          2    15647311      Hill          608     Spain  Female   41   \n",
       "2          3    15619304      Onio          502    France  Female   42   \n",
       "3          4    15701354      Boni          699    France  Female   39   \n",
       "4          5    15737888  Mitchell          850     Spain  Female   43   \n",
       "\n",
       "   Tenure    Balance  NumOfProducts  HasCrCard  IsActiveMember  \\\n",
       "0       2       0.00              1          1               1   \n",
       "1       1   83807.86              1          0               1   \n",
       "2       8  159660.80              3          1               0   \n",
       "3       1       0.00              2          0               0   \n",
       "4       2  125510.82              1          1               1   \n",
       "\n",
       "   EstimatedSalary  Exited  \n",
       "0        101348.88       1  \n",
       "1        112542.58       0  \n",
       "2        113931.57       1  \n",
       "3         93826.63       0  \n",
       "4         79084.10       0  "
      ],
      "text/html": "<div>\n<style scoped>\n    .dataframe tbody tr th:only-of-type {\n        vertical-align: middle;\n    }\n\n    .dataframe tbody tr th {\n        vertical-align: top;\n    }\n\n    .dataframe thead th {\n        text-align: right;\n    }\n</style>\n<table border=\"1\" class=\"dataframe\">\n  <thead>\n    <tr style=\"text-align: right;\">\n      <th></th>\n      <th>RowNumber</th>\n      <th>CustomerId</th>\n      <th>Surname</th>\n      <th>CreditScore</th>\n      <th>Geography</th>\n      <th>Gender</th>\n      <th>Age</th>\n      <th>Tenure</th>\n      <th>Balance</th>\n      <th>NumOfProducts</th>\n      <th>HasCrCard</th>\n      <th>IsActiveMember</th>\n      <th>EstimatedSalary</th>\n      <th>Exited</th>\n    </tr>\n  </thead>\n  <tbody>\n    <tr>\n      <th>0</th>\n      <td>1</td>\n      <td>15634602</td>\n      <td>Hargrave</td>\n      <td>619</td>\n      <td>France</td>\n      <td>Female</td>\n      <td>42</td>\n      <td>2</td>\n      <td>0.00</td>\n      <td>1</td>\n      <td>1</td>\n      <td>1</td>\n      <td>101348.88</td>\n      <td>1</td>\n    </tr>\n    <tr>\n      <th>1</th>\n      <td>2</td>\n      <td>15647311</td>\n      <td>Hill</td>\n      <td>608</td>\n      <td>Spain</td>\n      <td>Female</td>\n      <td>41</td>\n      <td>1</td>\n      <td>83807.86</td>\n      <td>1</td>\n      <td>0</td>\n      <td>1</td>\n      <td>112542.58</td>\n      <td>0</td>\n    </tr>\n    <tr>\n      <th>2</th>\n      <td>3</td>\n      <td>15619304</td>\n      <td>Onio</td>\n      <td>502</td>\n      <td>France</td>\n      <td>Female</td>\n      <td>42</td>\n      <td>8</td>\n      <td>159660.80</td>\n      <td>3</td>\n      <td>1</td>\n      <td>0</td>\n      <td>113931.57</td>\n      <td>1</td>\n    </tr>\n    <tr>\n      <th>3</th>\n      <td>4</td>\n      <td>15701354</td>\n      <td>Boni</td>\n      <td>699</td>\n      <td>France</td>\n      <td>Female</td>\n      <td>39</td>\n      <td>1</td>\n      <td>0.00</td>\n      <td>2</td>\n      <td>0</td>\n      <td>0</td>\n      <td>93826.63</td>\n      <td>0</td>\n    </tr>\n    <tr>\n      <th>4</th>\n      <td>5</td>\n      <td>15737888</td>\n      <td>Mitchell</td>\n      <td>850</td>\n      <td>Spain</td>\n      <td>Female</td>\n      <td>43</td>\n      <td>2</td>\n      <td>125510.82</td>\n      <td>1</td>\n      <td>1</td>\n      <td>1</td>\n      <td>79084.10</td>\n      <td>0</td>\n    </tr>\n  </tbody>\n</table>\n</div>"
     },
     "metadata": {},
     "execution_count": 88
    }
   ],
   "source": [
    "df.head(5)"
   ]
  },
  {
   "cell_type": "code",
   "execution_count": 89,
   "metadata": {},
   "outputs": [
    {
     "output_type": "execute_result",
     "data": {
      "text/plain": [
       "      RowNumber  CustomerId    Surname  CreditScore Geography  Gender  Age  \\\n",
       "9995       9996    15606229   Obijiaku          771    France    Male   39   \n",
       "9996       9997    15569892  Johnstone          516    France    Male   35   \n",
       "9997       9998    15584532        Liu          709    France  Female   36   \n",
       "9998       9999    15682355  Sabbatini          772   Germany    Male   42   \n",
       "9999      10000    15628319     Walker          792    France  Female   28   \n",
       "\n",
       "      Tenure    Balance  NumOfProducts  HasCrCard  IsActiveMember  \\\n",
       "9995       5       0.00              2          1               0   \n",
       "9996      10   57369.61              1          1               1   \n",
       "9997       7       0.00              1          0               1   \n",
       "9998       3   75075.31              2          1               0   \n",
       "9999       4  130142.79              1          1               0   \n",
       "\n",
       "      EstimatedSalary  Exited  \n",
       "9995         96270.64       0  \n",
       "9996        101699.77       0  \n",
       "9997         42085.58       1  \n",
       "9998         92888.52       1  \n",
       "9999         38190.78       0  "
      ],
      "text/html": "<div>\n<style scoped>\n    .dataframe tbody tr th:only-of-type {\n        vertical-align: middle;\n    }\n\n    .dataframe tbody tr th {\n        vertical-align: top;\n    }\n\n    .dataframe thead th {\n        text-align: right;\n    }\n</style>\n<table border=\"1\" class=\"dataframe\">\n  <thead>\n    <tr style=\"text-align: right;\">\n      <th></th>\n      <th>RowNumber</th>\n      <th>CustomerId</th>\n      <th>Surname</th>\n      <th>CreditScore</th>\n      <th>Geography</th>\n      <th>Gender</th>\n      <th>Age</th>\n      <th>Tenure</th>\n      <th>Balance</th>\n      <th>NumOfProducts</th>\n      <th>HasCrCard</th>\n      <th>IsActiveMember</th>\n      <th>EstimatedSalary</th>\n      <th>Exited</th>\n    </tr>\n  </thead>\n  <tbody>\n    <tr>\n      <th>9995</th>\n      <td>9996</td>\n      <td>15606229</td>\n      <td>Obijiaku</td>\n      <td>771</td>\n      <td>France</td>\n      <td>Male</td>\n      <td>39</td>\n      <td>5</td>\n      <td>0.00</td>\n      <td>2</td>\n      <td>1</td>\n      <td>0</td>\n      <td>96270.64</td>\n      <td>0</td>\n    </tr>\n    <tr>\n      <th>9996</th>\n      <td>9997</td>\n      <td>15569892</td>\n      <td>Johnstone</td>\n      <td>516</td>\n      <td>France</td>\n      <td>Male</td>\n      <td>35</td>\n      <td>10</td>\n      <td>57369.61</td>\n      <td>1</td>\n      <td>1</td>\n      <td>1</td>\n      <td>101699.77</td>\n      <td>0</td>\n    </tr>\n    <tr>\n      <th>9997</th>\n      <td>9998</td>\n      <td>15584532</td>\n      <td>Liu</td>\n      <td>709</td>\n      <td>France</td>\n      <td>Female</td>\n      <td>36</td>\n      <td>7</td>\n      <td>0.00</td>\n      <td>1</td>\n      <td>0</td>\n      <td>1</td>\n      <td>42085.58</td>\n      <td>1</td>\n    </tr>\n    <tr>\n      <th>9998</th>\n      <td>9999</td>\n      <td>15682355</td>\n      <td>Sabbatini</td>\n      <td>772</td>\n      <td>Germany</td>\n      <td>Male</td>\n      <td>42</td>\n      <td>3</td>\n      <td>75075.31</td>\n      <td>2</td>\n      <td>1</td>\n      <td>0</td>\n      <td>92888.52</td>\n      <td>1</td>\n    </tr>\n    <tr>\n      <th>9999</th>\n      <td>10000</td>\n      <td>15628319</td>\n      <td>Walker</td>\n      <td>792</td>\n      <td>France</td>\n      <td>Female</td>\n      <td>28</td>\n      <td>4</td>\n      <td>130142.79</td>\n      <td>1</td>\n      <td>1</td>\n      <td>0</td>\n      <td>38190.78</td>\n      <td>0</td>\n    </tr>\n  </tbody>\n</table>\n</div>"
     },
     "metadata": {},
     "execution_count": 89
    }
   ],
   "source": [
    "df.tail(5)"
   ]
  },
  {
   "source": [
    "## Check Data Type"
   ],
   "cell_type": "markdown",
   "metadata": {}
  },
  {
   "source": [
    "Change Gender: 1 for Male , 0 for Female"
   ],
   "cell_type": "markdown",
   "metadata": {}
  },
  {
   "cell_type": "code",
   "execution_count": 105,
   "metadata": {},
   "outputs": [
    {
     "output_type": "execute_result",
     "data": {
      "text/plain": [
       "   RowNumber  CustomerId   Surname  CreditScore Geography  Gender  Age  \\\n",
       "0          1    15634602  Hargrave          619    France       0   42   \n",
       "1          2    15647311      Hill          608     Spain       0   41   \n",
       "2          3    15619304      Onio          502    France       0   42   \n",
       "3          4    15701354      Boni          699    France       0   39   \n",
       "4          5    15737888  Mitchell          850     Spain       0   43   \n",
       "5          6    15574012       Chu          645     Spain       1   44   \n",
       "6          7    15592531  Bartlett          822    France       1   50   \n",
       "7          8    15656148    Obinna          376   Germany       0   29   \n",
       "8          9    15792365        He          501    France       1   44   \n",
       "9         10    15592389        H?          684    France       1   27   \n",
       "\n",
       "   Tenure    Balance  NumOfProducts  HasCrCard  IsActiveMember  \\\n",
       "0       2       0.00              1          1               1   \n",
       "1       1   83807.86              1          0               1   \n",
       "2       8  159660.80              3          1               0   \n",
       "3       1       0.00              2          0               0   \n",
       "4       2  125510.82              1          1               1   \n",
       "5       8  113755.78              2          1               0   \n",
       "6       7       0.00              2          1               1   \n",
       "7       4  115046.74              4          1               0   \n",
       "8       4  142051.07              2          0               1   \n",
       "9       2  134603.88              1          1               1   \n",
       "\n",
       "   EstimatedSalary  Exited  \n",
       "0        101348.88       1  \n",
       "1        112542.58       0  \n",
       "2        113931.57       1  \n",
       "3         93826.63       0  \n",
       "4         79084.10       0  \n",
       "5        149756.71       1  \n",
       "6         10062.80       0  \n",
       "7        119346.88       1  \n",
       "8         74940.50       0  \n",
       "9         71725.73       0  "
      ],
      "text/html": "<div>\n<style scoped>\n    .dataframe tbody tr th:only-of-type {\n        vertical-align: middle;\n    }\n\n    .dataframe tbody tr th {\n        vertical-align: top;\n    }\n\n    .dataframe thead th {\n        text-align: right;\n    }\n</style>\n<table border=\"1\" class=\"dataframe\">\n  <thead>\n    <tr style=\"text-align: right;\">\n      <th></th>\n      <th>RowNumber</th>\n      <th>CustomerId</th>\n      <th>Surname</th>\n      <th>CreditScore</th>\n      <th>Geography</th>\n      <th>Gender</th>\n      <th>Age</th>\n      <th>Tenure</th>\n      <th>Balance</th>\n      <th>NumOfProducts</th>\n      <th>HasCrCard</th>\n      <th>IsActiveMember</th>\n      <th>EstimatedSalary</th>\n      <th>Exited</th>\n    </tr>\n  </thead>\n  <tbody>\n    <tr>\n      <th>0</th>\n      <td>1</td>\n      <td>15634602</td>\n      <td>Hargrave</td>\n      <td>619</td>\n      <td>France</td>\n      <td>0</td>\n      <td>42</td>\n      <td>2</td>\n      <td>0.00</td>\n      <td>1</td>\n      <td>1</td>\n      <td>1</td>\n      <td>101348.88</td>\n      <td>1</td>\n    </tr>\n    <tr>\n      <th>1</th>\n      <td>2</td>\n      <td>15647311</td>\n      <td>Hill</td>\n      <td>608</td>\n      <td>Spain</td>\n      <td>0</td>\n      <td>41</td>\n      <td>1</td>\n      <td>83807.86</td>\n      <td>1</td>\n      <td>0</td>\n      <td>1</td>\n      <td>112542.58</td>\n      <td>0</td>\n    </tr>\n    <tr>\n      <th>2</th>\n      <td>3</td>\n      <td>15619304</td>\n      <td>Onio</td>\n      <td>502</td>\n      <td>France</td>\n      <td>0</td>\n      <td>42</td>\n      <td>8</td>\n      <td>159660.80</td>\n      <td>3</td>\n      <td>1</td>\n      <td>0</td>\n      <td>113931.57</td>\n      <td>1</td>\n    </tr>\n    <tr>\n      <th>3</th>\n      <td>4</td>\n      <td>15701354</td>\n      <td>Boni</td>\n      <td>699</td>\n      <td>France</td>\n      <td>0</td>\n      <td>39</td>\n      <td>1</td>\n      <td>0.00</td>\n      <td>2</td>\n      <td>0</td>\n      <td>0</td>\n      <td>93826.63</td>\n      <td>0</td>\n    </tr>\n    <tr>\n      <th>4</th>\n      <td>5</td>\n      <td>15737888</td>\n      <td>Mitchell</td>\n      <td>850</td>\n      <td>Spain</td>\n      <td>0</td>\n      <td>43</td>\n      <td>2</td>\n      <td>125510.82</td>\n      <td>1</td>\n      <td>1</td>\n      <td>1</td>\n      <td>79084.10</td>\n      <td>0</td>\n    </tr>\n    <tr>\n      <th>5</th>\n      <td>6</td>\n      <td>15574012</td>\n      <td>Chu</td>\n      <td>645</td>\n      <td>Spain</td>\n      <td>1</td>\n      <td>44</td>\n      <td>8</td>\n      <td>113755.78</td>\n      <td>2</td>\n      <td>1</td>\n      <td>0</td>\n      <td>149756.71</td>\n      <td>1</td>\n    </tr>\n    <tr>\n      <th>6</th>\n      <td>7</td>\n      <td>15592531</td>\n      <td>Bartlett</td>\n      <td>822</td>\n      <td>France</td>\n      <td>1</td>\n      <td>50</td>\n      <td>7</td>\n      <td>0.00</td>\n      <td>2</td>\n      <td>1</td>\n      <td>1</td>\n      <td>10062.80</td>\n      <td>0</td>\n    </tr>\n    <tr>\n      <th>7</th>\n      <td>8</td>\n      <td>15656148</td>\n      <td>Obinna</td>\n      <td>376</td>\n      <td>Germany</td>\n      <td>0</td>\n      <td>29</td>\n      <td>4</td>\n      <td>115046.74</td>\n      <td>4</td>\n      <td>1</td>\n      <td>0</td>\n      <td>119346.88</td>\n      <td>1</td>\n    </tr>\n    <tr>\n      <th>8</th>\n      <td>9</td>\n      <td>15792365</td>\n      <td>He</td>\n      <td>501</td>\n      <td>France</td>\n      <td>1</td>\n      <td>44</td>\n      <td>4</td>\n      <td>142051.07</td>\n      <td>2</td>\n      <td>0</td>\n      <td>1</td>\n      <td>74940.50</td>\n      <td>0</td>\n    </tr>\n    <tr>\n      <th>9</th>\n      <td>10</td>\n      <td>15592389</td>\n      <td>H?</td>\n      <td>684</td>\n      <td>France</td>\n      <td>1</td>\n      <td>27</td>\n      <td>2</td>\n      <td>134603.88</td>\n      <td>1</td>\n      <td>1</td>\n      <td>1</td>\n      <td>71725.73</td>\n      <td>0</td>\n    </tr>\n  </tbody>\n</table>\n</div>"
     },
     "metadata": {},
     "execution_count": 105
    }
   ],
   "source": [
    "gender_map = {'Male':1,'Female':0}\n",
    "df['Gender'] = df['Gender'].map(gender_map)\n",
    "df.head(10)"
   ]
  },
  {
   "source": [
    "## Cheick for null values"
   ],
   "cell_type": "markdown",
   "metadata": {}
  },
  {
   "cell_type": "code",
   "execution_count": 91,
   "metadata": {},
   "outputs": [
    {
     "output_type": "execute_result",
     "data": {
      "text/plain": [
       "False"
      ]
     },
     "metadata": {},
     "execution_count": 91
    }
   ],
   "source": [
    "df.isnull().values.any()"
   ]
  },
  {
   "cell_type": "code",
   "execution_count": 92,
   "metadata": {},
   "outputs": [
    {
     "output_type": "execute_result",
     "data": {
      "text/plain": [
       "([<matplotlib.axis.YTick at 0x1cbcbdb69d0>,\n",
       "  <matplotlib.axis.YTick at 0x1cbcb9cd9d0>,\n",
       "  <matplotlib.axis.YTick at 0x1cbc7658220>,\n",
       "  <matplotlib.axis.YTick at 0x1cbc94fe700>,\n",
       "  <matplotlib.axis.YTick at 0x1cbcab3c520>,\n",
       "  <matplotlib.axis.YTick at 0x1cbcab3c250>,\n",
       "  <matplotlib.axis.YTick at 0x1cbcaf95c40>,\n",
       "  <matplotlib.axis.YTick at 0x1cbcaf95280>,\n",
       "  <matplotlib.axis.YTick at 0x1cbc79d4460>,\n",
       "  <matplotlib.axis.YTick at 0x1cbc964c760>,\n",
       "  <matplotlib.axis.YTick at 0x1cbcae974c0>,\n",
       "  <matplotlib.axis.YTick at 0x1cbc79d4610>],\n",
       " [Text(0, 0, 'RowNumber'),\n",
       "  Text(0, 1, 'CustomerId'),\n",
       "  Text(0, 2, 'CreditScore'),\n",
       "  Text(0, 3, 'Gender'),\n",
       "  Text(0, 4, 'Age'),\n",
       "  Text(0, 5, 'Tenure'),\n",
       "  Text(0, 6, 'Balance'),\n",
       "  Text(0, 7, 'NumOfProducts'),\n",
       "  Text(0, 8, 'HasCrCard'),\n",
       "  Text(0, 9, 'IsActiveMember'),\n",
       "  Text(0, 10, 'EstimatedSalary'),\n",
       "  Text(0, 11, 'Exited')])"
      ]
     },
     "metadata": {},
     "execution_count": 92
    },
    {
     "output_type": "display_data",
     "data": {
      "text/plain": "<Figure size 792x792 with 1 Axes>",
      "image/svg+xml": "<?xml version=\"1.0\" encoding=\"utf-8\" standalone=\"no\"?>\r\n<!DOCTYPE svg PUBLIC \"-//W3C//DTD SVG 1.1//EN\"\r\n  \"http://www.w3.org/Graphics/SVG/1.1/DTD/svg11.dtd\">\r\n<!-- Created with matplotlib (https://matplotlib.org/) -->\r\n<svg height=\"632.538125pt\" version=\"1.1\" viewBox=\"0 0 701.289687 632.538125\" width=\"701.289687pt\" xmlns=\"http://www.w3.org/2000/svg\" xmlns:xlink=\"http://www.w3.org/1999/xlink\">\r\n <metadata>\r\n  <rdf:RDF xmlns:cc=\"http://creativecommons.org/ns#\" xmlns:dc=\"http://purl.org/dc/elements/1.1/\" xmlns:rdf=\"http://www.w3.org/1999/02/22-rdf-syntax-ns#\">\r\n   <cc:Work>\r\n    <dc:type rdf:resource=\"http://purl.org/dc/dcmitype/StillImage\"/>\r\n    <dc:date>2020-12-24T03:36:16.222195</dc:date>\r\n    <dc:format>image/svg+xml</dc:format>\r\n    <dc:creator>\r\n     <cc:Agent>\r\n      <dc:title>Matplotlib v3.3.3, https://matplotlib.org/</dc:title>\r\n     </cc:Agent>\r\n    </dc:creator>\r\n   </cc:Work>\r\n  </rdf:RDF>\r\n </metadata>\r\n <defs>\r\n  <style type=\"text/css\">*{stroke-linecap:butt;stroke-linejoin:round;}</style>\r\n </defs>\r\n <g id=\"figure_1\">\r\n  <g id=\"patch_1\">\r\n   <path d=\"M 0 632.538125 \r\nL 701.289687 632.538125 \r\nL 701.289687 0 \r\nL 0 0 \r\nz\r\n\" style=\"fill:none;\"/>\r\n  </g>\r\n  <g id=\"axes_1\">\r\n   <g id=\"patch_2\">\r\n    <path d=\"M 96.129688 621.838125 \r\nL 694.089687 621.838125 \r\nL 694.089687 23.878125 \r\nL 96.129688 23.878125 \r\nz\r\n\" style=\"fill:#ffffff;\"/>\r\n   </g>\r\n   <g clip-path=\"url(#p3ae366c186)\">\r\n    <image height=\"598\" id=\"image93e6b2bfac\" transform=\"scale(1 -1)translate(0 -598)\" width=\"598\" x=\"96.129688\" xlink:href=\"data:image/png;base64,\r\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\" y=\"-23.838125\"/>\r\n   </g>\r\n   <g id=\"matplotlib.axis_1\">\r\n    <g id=\"xtick_1\">\r\n     <g id=\"line2d_1\">\r\n      <defs>\r\n       <path d=\"M 0 0 \r\nL 0 3.5 \r\n\" id=\"m638f447b0e\" style=\"stroke:#000000;stroke-width:0.8;\"/>\r\n      </defs>\r\n      <g>\r\n       <use style=\"stroke:#000000;stroke-width:0.8;\" x=\"121.044687\" xlink:href=\"#m638f447b0e\" y=\"621.838125\"/>\r\n      </g>\r\n     </g>\r\n     <g id=\"line2d_2\">\r\n      <defs>\r\n       <path d=\"M 0 0 \r\nL 0 -3.5 \r\n\" id=\"mc26fa4281a\" style=\"stroke:#000000;stroke-width:0.8;\"/>\r\n      </defs>\r\n      <g>\r\n       <use style=\"stroke:#000000;stroke-width:0.8;\" x=\"121.044687\" xlink:href=\"#mc26fa4281a\" y=\"23.878125\"/>\r\n      </g>\r\n     </g>\r\n     <g id=\"text_1\">\r\n      <!-- RowNumber -->\r\n      <g transform=\"translate(90.561094 14.798437)scale(0.1 -0.1)\">\r\n       <defs>\r\n        <path d=\"M 44.390625 34.1875 \r\nQ 47.5625 33.109375 50.5625 29.59375 \r\nQ 53.5625 26.078125 56.59375 19.921875 \r\nL 66.609375 0 \r\nL 56 0 \r\nL 46.6875 18.703125 \r\nQ 43.0625 26.03125 39.671875 28.421875 \r\nQ 36.28125 30.8125 30.421875 30.8125 \r\nL 19.671875 30.8125 \r\nL 19.671875 0 \r\nL 9.8125 0 \r\nL 9.8125 72.90625 \r\nL 32.078125 72.90625 \r\nQ 44.578125 72.90625 50.734375 67.671875 \r\nQ 56.890625 62.453125 56.890625 51.90625 \r\nQ 56.890625 45.015625 53.6875 40.46875 \r\nQ 50.484375 35.9375 44.390625 34.1875 \r\nz\r\nM 19.671875 64.796875 \r\nL 19.671875 38.921875 \r\nL 32.078125 38.921875 \r\nQ 39.203125 38.921875 42.84375 42.21875 \r\nQ 46.484375 45.515625 46.484375 51.90625 \r\nQ 46.484375 58.296875 42.84375 61.546875 \r\nQ 39.203125 64.796875 32.078125 64.796875 \r\nz\r\n\" id=\"DejaVuSans-82\"/>\r\n        <path d=\"M 30.609375 48.390625 \r\nQ 23.390625 48.390625 19.1875 42.75 \r\nQ 14.984375 37.109375 14.984375 27.296875 \r\nQ 14.984375 17.484375 19.15625 11.84375 \r\nQ 23.34375 6.203125 30.609375 6.203125 \r\nQ 37.796875 6.203125 41.984375 11.859375 \r\nQ 46.1875 17.53125 46.1875 27.296875 \r\nQ 46.1875 37.015625 41.984375 42.703125 \r\nQ 37.796875 48.390625 30.609375 48.390625 \r\nz\r\nM 30.609375 56 \r\nQ 42.328125 56 49.015625 48.375 \r\nQ 55.71875 40.765625 55.71875 27.296875 \r\nQ 55.71875 13.875 49.015625 6.21875 \r\nQ 42.328125 -1.421875 30.609375 -1.421875 \r\nQ 18.84375 -1.421875 12.171875 6.21875 \r\nQ 5.515625 13.875 5.515625 27.296875 \r\nQ 5.515625 40.765625 12.171875 48.375 \r\nQ 18.84375 56 30.609375 56 \r\nz\r\n\" id=\"DejaVuSans-111\"/>\r\n        <path d=\"M 4.203125 54.6875 \r\nL 13.1875 54.6875 \r\nL 24.421875 12.015625 \r\nL 35.59375 54.6875 \r\nL 46.1875 54.6875 \r\nL 57.421875 12.015625 \r\nL 68.609375 54.6875 \r\nL 77.59375 54.6875 \r\nL 63.28125 0 \r\nL 52.6875 0 \r\nL 40.921875 44.828125 \r\nL 29.109375 0 \r\nL 18.5 0 \r\nz\r\n\" id=\"DejaVuSans-119\"/>\r\n        <path d=\"M 9.8125 72.90625 \r\nL 23.09375 72.90625 \r\nL 55.421875 11.921875 \r\nL 55.421875 72.90625 \r\nL 64.984375 72.90625 \r\nL 64.984375 0 \r\nL 51.703125 0 \r\nL 19.390625 60.984375 \r\nL 19.390625 0 \r\nL 9.8125 0 \r\nz\r\n\" id=\"DejaVuSans-78\"/>\r\n        <path d=\"M 8.5 21.578125 \r\nL 8.5 54.6875 \r\nL 17.484375 54.6875 \r\nL 17.484375 21.921875 \r\nQ 17.484375 14.15625 20.5 10.265625 \r\nQ 23.53125 6.390625 29.59375 6.390625 \r\nQ 36.859375 6.390625 41.078125 11.03125 \r\nQ 45.3125 15.671875 45.3125 23.6875 \r\nL 45.3125 54.6875 \r\nL 54.296875 54.6875 \r\nL 54.296875 0 \r\nL 45.3125 0 \r\nL 45.3125 8.40625 \r\nQ 42.046875 3.421875 37.71875 1 \r\nQ 33.40625 -1.421875 27.6875 -1.421875 \r\nQ 18.265625 -1.421875 13.375 4.4375 \r\nQ 8.5 10.296875 8.5 21.578125 \r\nz\r\nM 31.109375 56 \r\nz\r\n\" id=\"DejaVuSans-117\"/>\r\n        <path d=\"M 52 44.1875 \r\nQ 55.375 50.25 60.0625 53.125 \r\nQ 64.75 56 71.09375 56 \r\nQ 79.640625 56 84.28125 50.015625 \r\nQ 88.921875 44.046875 88.921875 33.015625 \r\nL 88.921875 0 \r\nL 79.890625 0 \r\nL 79.890625 32.71875 \r\nQ 79.890625 40.578125 77.09375 44.375 \r\nQ 74.3125 48.1875 68.609375 48.1875 \r\nQ 61.625 48.1875 57.5625 43.546875 \r\nQ 53.515625 38.921875 53.515625 30.90625 \r\nL 53.515625 0 \r\nL 44.484375 0 \r\nL 44.484375 32.71875 \r\nQ 44.484375 40.625 41.703125 44.40625 \r\nQ 38.921875 48.1875 33.109375 48.1875 \r\nQ 26.21875 48.1875 22.15625 43.53125 \r\nQ 18.109375 38.875 18.109375 30.90625 \r\nL 18.109375 0 \r\nL 9.078125 0 \r\nL 9.078125 54.6875 \r\nL 18.109375 54.6875 \r\nL 18.109375 46.1875 \r\nQ 21.1875 51.21875 25.484375 53.609375 \r\nQ 29.78125 56 35.6875 56 \r\nQ 41.65625 56 45.828125 52.96875 \r\nQ 50 49.953125 52 44.1875 \r\nz\r\n\" id=\"DejaVuSans-109\"/>\r\n        <path d=\"M 48.6875 27.296875 \r\nQ 48.6875 37.203125 44.609375 42.84375 \r\nQ 40.53125 48.484375 33.40625 48.484375 \r\nQ 26.265625 48.484375 22.1875 42.84375 \r\nQ 18.109375 37.203125 18.109375 27.296875 \r\nQ 18.109375 17.390625 22.1875 11.75 \r\nQ 26.265625 6.109375 33.40625 6.109375 \r\nQ 40.53125 6.109375 44.609375 11.75 \r\nQ 48.6875 17.390625 48.6875 27.296875 \r\nz\r\nM 18.109375 46.390625 \r\nQ 20.953125 51.265625 25.265625 53.625 \r\nQ 29.59375 56 35.59375 56 \r\nQ 45.5625 56 51.78125 48.09375 \r\nQ 58.015625 40.1875 58.015625 27.296875 \r\nQ 58.015625 14.40625 51.78125 6.484375 \r\nQ 45.5625 -1.421875 35.59375 -1.421875 \r\nQ 29.59375 -1.421875 25.265625 0.953125 \r\nQ 20.953125 3.328125 18.109375 8.203125 \r\nL 18.109375 0 \r\nL 9.078125 0 \r\nL 9.078125 75.984375 \r\nL 18.109375 75.984375 \r\nz\r\n\" id=\"DejaVuSans-98\"/>\r\n        <path d=\"M 56.203125 29.59375 \r\nL 56.203125 25.203125 \r\nL 14.890625 25.203125 \r\nQ 15.484375 15.921875 20.484375 11.0625 \r\nQ 25.484375 6.203125 34.421875 6.203125 \r\nQ 39.59375 6.203125 44.453125 7.46875 \r\nQ 49.3125 8.734375 54.109375 11.28125 \r\nL 54.109375 2.78125 \r\nQ 49.265625 0.734375 44.1875 -0.34375 \r\nQ 39.109375 -1.421875 33.890625 -1.421875 \r\nQ 20.796875 -1.421875 13.15625 6.1875 \r\nQ 5.515625 13.8125 5.515625 26.8125 \r\nQ 5.515625 40.234375 12.765625 48.109375 \r\nQ 20.015625 56 32.328125 56 \r\nQ 43.359375 56 49.78125 48.890625 \r\nQ 56.203125 41.796875 56.203125 29.59375 \r\nz\r\nM 47.21875 32.234375 \r\nQ 47.125 39.59375 43.09375 43.984375 \r\nQ 39.0625 48.390625 32.421875 48.390625 \r\nQ 24.90625 48.390625 20.390625 44.140625 \r\nQ 15.875 39.890625 15.1875 32.171875 \r\nz\r\n\" id=\"DejaVuSans-101\"/>\r\n        <path d=\"M 41.109375 46.296875 \r\nQ 39.59375 47.171875 37.8125 47.578125 \r\nQ 36.03125 48 33.890625 48 \r\nQ 26.265625 48 22.1875 43.046875 \r\nQ 18.109375 38.09375 18.109375 28.8125 \r\nL 18.109375 0 \r\nL 9.078125 0 \r\nL 9.078125 54.6875 \r\nL 18.109375 54.6875 \r\nL 18.109375 46.1875 \r\nQ 20.953125 51.171875 25.484375 53.578125 \r\nQ 30.03125 56 36.53125 56 \r\nQ 37.453125 56 38.578125 55.875 \r\nQ 39.703125 55.765625 41.0625 55.515625 \r\nz\r\n\" id=\"DejaVuSans-114\"/>\r\n       </defs>\r\n       <use xlink:href=\"#DejaVuSans-82\"/>\r\n       <use x=\"64.982422\" xlink:href=\"#DejaVuSans-111\"/>\r\n       <use x=\"126.164062\" xlink:href=\"#DejaVuSans-119\"/>\r\n       <use x=\"207.951172\" xlink:href=\"#DejaVuSans-78\"/>\r\n       <use x=\"282.755859\" xlink:href=\"#DejaVuSans-117\"/>\r\n       <use x=\"346.134766\" xlink:href=\"#DejaVuSans-109\"/>\r\n       <use x=\"443.546875\" xlink:href=\"#DejaVuSans-98\"/>\r\n       <use x=\"507.023438\" xlink:href=\"#DejaVuSans-101\"/>\r\n       <use x=\"568.546875\" xlink:href=\"#DejaVuSans-114\"/>\r\n      </g>\r\n     </g>\r\n    </g>\r\n    <g id=\"xtick_2\">\r\n     <g id=\"line2d_3\">\r\n      <g>\r\n       <use style=\"stroke:#000000;stroke-width:0.8;\" x=\"170.874687\" xlink:href=\"#m638f447b0e\" y=\"621.838125\"/>\r\n      </g>\r\n     </g>\r\n     <g id=\"line2d_4\">\r\n      <g>\r\n       <use style=\"stroke:#000000;stroke-width:0.8;\" x=\"170.874687\" xlink:href=\"#mc26fa4281a\" y=\"23.878125\"/>\r\n      </g>\r\n     </g>\r\n     <g id=\"text_2\">\r\n      <!-- CustomerId -->\r\n      <g transform=\"translate(141.93875 14.798437)scale(0.1 -0.1)\">\r\n       <defs>\r\n        <path d=\"M 64.40625 67.28125 \r\nL 64.40625 56.890625 \r\nQ 59.421875 61.53125 53.78125 63.8125 \r\nQ 48.140625 66.109375 41.796875 66.109375 \r\nQ 29.296875 66.109375 22.65625 58.46875 \r\nQ 16.015625 50.828125 16.015625 36.375 \r\nQ 16.015625 21.96875 22.65625 14.328125 \r\nQ 29.296875 6.6875 41.796875 6.6875 \r\nQ 48.140625 6.6875 53.78125 8.984375 \r\nQ 59.421875 11.28125 64.40625 15.921875 \r\nL 64.40625 5.609375 \r\nQ 59.234375 2.09375 53.4375 0.328125 \r\nQ 47.65625 -1.421875 41.21875 -1.421875 \r\nQ 24.65625 -1.421875 15.125 8.703125 \r\nQ 5.609375 18.84375 5.609375 36.375 \r\nQ 5.609375 53.953125 15.125 64.078125 \r\nQ 24.65625 74.21875 41.21875 74.21875 \r\nQ 47.75 74.21875 53.53125 72.484375 \r\nQ 59.328125 70.75 64.40625 67.28125 \r\nz\r\n\" id=\"DejaVuSans-67\"/>\r\n        <path d=\"M 44.28125 53.078125 \r\nL 44.28125 44.578125 \r\nQ 40.484375 46.53125 36.375 47.5 \r\nQ 32.28125 48.484375 27.875 48.484375 \r\nQ 21.1875 48.484375 17.84375 46.4375 \r\nQ 14.5 44.390625 14.5 40.28125 \r\nQ 14.5 37.15625 16.890625 35.375 \r\nQ 19.28125 33.59375 26.515625 31.984375 \r\nL 29.59375 31.296875 \r\nQ 39.15625 29.25 43.1875 25.515625 \r\nQ 47.21875 21.78125 47.21875 15.09375 \r\nQ 47.21875 7.46875 41.1875 3.015625 \r\nQ 35.15625 -1.421875 24.609375 -1.421875 \r\nQ 20.21875 -1.421875 15.453125 -0.5625 \r\nQ 10.6875 0.296875 5.421875 2 \r\nL 5.421875 11.28125 \r\nQ 10.40625 8.6875 15.234375 7.390625 \r\nQ 20.0625 6.109375 24.8125 6.109375 \r\nQ 31.15625 6.109375 34.5625 8.28125 \r\nQ 37.984375 10.453125 37.984375 14.40625 \r\nQ 37.984375 18.0625 35.515625 20.015625 \r\nQ 33.0625 21.96875 24.703125 23.78125 \r\nL 21.578125 24.515625 \r\nQ 13.234375 26.265625 9.515625 29.90625 \r\nQ 5.8125 33.546875 5.8125 39.890625 \r\nQ 5.8125 47.609375 11.28125 51.796875 \r\nQ 16.75 56 26.8125 56 \r\nQ 31.78125 56 36.171875 55.265625 \r\nQ 40.578125 54.546875 44.28125 53.078125 \r\nz\r\n\" id=\"DejaVuSans-115\"/>\r\n        <path d=\"M 18.3125 70.21875 \r\nL 18.3125 54.6875 \r\nL 36.8125 54.6875 \r\nL 36.8125 47.703125 \r\nL 18.3125 47.703125 \r\nL 18.3125 18.015625 \r\nQ 18.3125 11.328125 20.140625 9.421875 \r\nQ 21.96875 7.515625 27.59375 7.515625 \r\nL 36.8125 7.515625 \r\nL 36.8125 0 \r\nL 27.59375 0 \r\nQ 17.1875 0 13.234375 3.875 \r\nQ 9.28125 7.765625 9.28125 18.015625 \r\nL 9.28125 47.703125 \r\nL 2.6875 47.703125 \r\nL 2.6875 54.6875 \r\nL 9.28125 54.6875 \r\nL 9.28125 70.21875 \r\nz\r\n\" id=\"DejaVuSans-116\"/>\r\n        <path d=\"M 9.8125 72.90625 \r\nL 19.671875 72.90625 \r\nL 19.671875 0 \r\nL 9.8125 0 \r\nz\r\n\" id=\"DejaVuSans-73\"/>\r\n        <path d=\"M 45.40625 46.390625 \r\nL 45.40625 75.984375 \r\nL 54.390625 75.984375 \r\nL 54.390625 0 \r\nL 45.40625 0 \r\nL 45.40625 8.203125 \r\nQ 42.578125 3.328125 38.25 0.953125 \r\nQ 33.9375 -1.421875 27.875 -1.421875 \r\nQ 17.96875 -1.421875 11.734375 6.484375 \r\nQ 5.515625 14.40625 5.515625 27.296875 \r\nQ 5.515625 40.1875 11.734375 48.09375 \r\nQ 17.96875 56 27.875 56 \r\nQ 33.9375 56 38.25 53.625 \r\nQ 42.578125 51.265625 45.40625 46.390625 \r\nz\r\nM 14.796875 27.296875 \r\nQ 14.796875 17.390625 18.875 11.75 \r\nQ 22.953125 6.109375 30.078125 6.109375 \r\nQ 37.203125 6.109375 41.296875 11.75 \r\nQ 45.40625 17.390625 45.40625 27.296875 \r\nQ 45.40625 37.203125 41.296875 42.84375 \r\nQ 37.203125 48.484375 30.078125 48.484375 \r\nQ 22.953125 48.484375 18.875 42.84375 \r\nQ 14.796875 37.203125 14.796875 27.296875 \r\nz\r\n\" id=\"DejaVuSans-100\"/>\r\n       </defs>\r\n       <use xlink:href=\"#DejaVuSans-67\"/>\r\n       <use x=\"69.824219\" xlink:href=\"#DejaVuSans-117\"/>\r\n       <use x=\"133.203125\" xlink:href=\"#DejaVuSans-115\"/>\r\n       <use x=\"185.302734\" xlink:href=\"#DejaVuSans-116\"/>\r\n       <use x=\"224.511719\" xlink:href=\"#DejaVuSans-111\"/>\r\n       <use x=\"285.693359\" xlink:href=\"#DejaVuSans-109\"/>\r\n       <use x=\"383.105469\" xlink:href=\"#DejaVuSans-101\"/>\r\n       <use x=\"444.628906\" xlink:href=\"#DejaVuSans-114\"/>\r\n       <use x=\"485.742188\" xlink:href=\"#DejaVuSans-73\"/>\r\n       <use x=\"515.234375\" xlink:href=\"#DejaVuSans-100\"/>\r\n      </g>\r\n     </g>\r\n    </g>\r\n    <g id=\"xtick_3\">\r\n     <g id=\"line2d_5\">\r\n      <g>\r\n       <use style=\"stroke:#000000;stroke-width:0.8;\" x=\"220.704687\" xlink:href=\"#m638f447b0e\" y=\"621.838125\"/>\r\n      </g>\r\n     </g>\r\n     <g id=\"line2d_6\">\r\n      <g>\r\n       <use style=\"stroke:#000000;stroke-width:0.8;\" x=\"220.704687\" xlink:href=\"#mc26fa4281a\" y=\"23.878125\"/>\r\n      </g>\r\n     </g>\r\n     <g id=\"text_3\">\r\n      <!-- CreditScore -->\r\n      <g transform=\"translate(191.667969 14.798437)scale(0.1 -0.1)\">\r\n       <defs>\r\n        <path d=\"M 9.421875 54.6875 \r\nL 18.40625 54.6875 \r\nL 18.40625 0 \r\nL 9.421875 0 \r\nz\r\nM 9.421875 75.984375 \r\nL 18.40625 75.984375 \r\nL 18.40625 64.59375 \r\nL 9.421875 64.59375 \r\nz\r\n\" id=\"DejaVuSans-105\"/>\r\n        <path d=\"M 53.515625 70.515625 \r\nL 53.515625 60.890625 \r\nQ 47.90625 63.578125 42.921875 64.890625 \r\nQ 37.9375 66.21875 33.296875 66.21875 \r\nQ 25.25 66.21875 20.875 63.09375 \r\nQ 16.5 59.96875 16.5 54.203125 \r\nQ 16.5 49.359375 19.40625 46.890625 \r\nQ 22.3125 44.4375 30.421875 42.921875 \r\nL 36.375 41.703125 \r\nQ 47.40625 39.59375 52.65625 34.296875 \r\nQ 57.90625 29 57.90625 20.125 \r\nQ 57.90625 9.515625 50.796875 4.046875 \r\nQ 43.703125 -1.421875 29.984375 -1.421875 \r\nQ 24.8125 -1.421875 18.96875 -0.25 \r\nQ 13.140625 0.921875 6.890625 3.21875 \r\nL 6.890625 13.375 \r\nQ 12.890625 10.015625 18.65625 8.296875 \r\nQ 24.421875 6.59375 29.984375 6.59375 \r\nQ 38.421875 6.59375 43.015625 9.90625 \r\nQ 47.609375 13.234375 47.609375 19.390625 \r\nQ 47.609375 24.75 44.3125 27.78125 \r\nQ 41.015625 30.8125 33.5 32.328125 \r\nL 27.484375 33.5 \r\nQ 16.453125 35.6875 11.515625 40.375 \r\nQ 6.59375 45.0625 6.59375 53.421875 \r\nQ 6.59375 63.09375 13.40625 68.65625 \r\nQ 20.21875 74.21875 32.171875 74.21875 \r\nQ 37.3125 74.21875 42.625 73.28125 \r\nQ 47.953125 72.359375 53.515625 70.515625 \r\nz\r\n\" id=\"DejaVuSans-83\"/>\r\n        <path d=\"M 48.78125 52.59375 \r\nL 48.78125 44.1875 \r\nQ 44.96875 46.296875 41.140625 47.34375 \r\nQ 37.3125 48.390625 33.40625 48.390625 \r\nQ 24.65625 48.390625 19.8125 42.84375 \r\nQ 14.984375 37.3125 14.984375 27.296875 \r\nQ 14.984375 17.28125 19.8125 11.734375 \r\nQ 24.65625 6.203125 33.40625 6.203125 \r\nQ 37.3125 6.203125 41.140625 7.25 \r\nQ 44.96875 8.296875 48.78125 10.40625 \r\nL 48.78125 2.09375 \r\nQ 45.015625 0.34375 40.984375 -0.53125 \r\nQ 36.96875 -1.421875 32.421875 -1.421875 \r\nQ 20.0625 -1.421875 12.78125 6.34375 \r\nQ 5.515625 14.109375 5.515625 27.296875 \r\nQ 5.515625 40.671875 12.859375 48.328125 \r\nQ 20.21875 56 33.015625 56 \r\nQ 37.15625 56 41.109375 55.140625 \r\nQ 45.0625 54.296875 48.78125 52.59375 \r\nz\r\n\" id=\"DejaVuSans-99\"/>\r\n       </defs>\r\n       <use xlink:href=\"#DejaVuSans-67\"/>\r\n       <use x=\"69.824219\" xlink:href=\"#DejaVuSans-114\"/>\r\n       <use x=\"108.6875\" xlink:href=\"#DejaVuSans-101\"/>\r\n       <use x=\"170.210938\" xlink:href=\"#DejaVuSans-100\"/>\r\n       <use x=\"233.6875\" xlink:href=\"#DejaVuSans-105\"/>\r\n       <use x=\"261.470703\" xlink:href=\"#DejaVuSans-116\"/>\r\n       <use x=\"300.679688\" xlink:href=\"#DejaVuSans-83\"/>\r\n       <use x=\"364.15625\" xlink:href=\"#DejaVuSans-99\"/>\r\n       <use x=\"419.136719\" xlink:href=\"#DejaVuSans-111\"/>\r\n       <use x=\"480.318359\" xlink:href=\"#DejaVuSans-114\"/>\r\n       <use x=\"519.181641\" xlink:href=\"#DejaVuSans-101\"/>\r\n      </g>\r\n     </g>\r\n    </g>\r\n    <g id=\"xtick_4\">\r\n     <g id=\"line2d_7\">\r\n      <g>\r\n       <use style=\"stroke:#000000;stroke-width:0.8;\" x=\"270.534687\" xlink:href=\"#m638f447b0e\" y=\"621.838125\"/>\r\n      </g>\r\n     </g>\r\n     <g id=\"line2d_8\">\r\n      <g>\r\n       <use style=\"stroke:#000000;stroke-width:0.8;\" x=\"270.534687\" xlink:href=\"#mc26fa4281a\" y=\"23.878125\"/>\r\n      </g>\r\n     </g>\r\n     <g id=\"text_4\">\r\n      <!-- Gender -->\r\n      <g transform=\"translate(252.108906 14.798437)scale(0.1 -0.1)\">\r\n       <defs>\r\n        <path d=\"M 59.515625 10.40625 \r\nL 59.515625 29.984375 \r\nL 43.40625 29.984375 \r\nL 43.40625 38.09375 \r\nL 69.28125 38.09375 \r\nL 69.28125 6.78125 \r\nQ 63.578125 2.734375 56.6875 0.65625 \r\nQ 49.8125 -1.421875 42 -1.421875 \r\nQ 24.90625 -1.421875 15.25 8.5625 \r\nQ 5.609375 18.5625 5.609375 36.375 \r\nQ 5.609375 54.25 15.25 64.234375 \r\nQ 24.90625 74.21875 42 74.21875 \r\nQ 49.125 74.21875 55.546875 72.453125 \r\nQ 61.96875 70.703125 67.390625 67.28125 \r\nL 67.390625 56.78125 \r\nQ 61.921875 61.421875 55.765625 63.765625 \r\nQ 49.609375 66.109375 42.828125 66.109375 \r\nQ 29.4375 66.109375 22.71875 58.640625 \r\nQ 16.015625 51.171875 16.015625 36.375 \r\nQ 16.015625 21.625 22.71875 14.15625 \r\nQ 29.4375 6.6875 42.828125 6.6875 \r\nQ 48.046875 6.6875 52.140625 7.59375 \r\nQ 56.25 8.5 59.515625 10.40625 \r\nz\r\n\" id=\"DejaVuSans-71\"/>\r\n        <path d=\"M 54.890625 33.015625 \r\nL 54.890625 0 \r\nL 45.90625 0 \r\nL 45.90625 32.71875 \r\nQ 45.90625 40.484375 42.875 44.328125 \r\nQ 39.84375 48.1875 33.796875 48.1875 \r\nQ 26.515625 48.1875 22.3125 43.546875 \r\nQ 18.109375 38.921875 18.109375 30.90625 \r\nL 18.109375 0 \r\nL 9.078125 0 \r\nL 9.078125 54.6875 \r\nL 18.109375 54.6875 \r\nL 18.109375 46.1875 \r\nQ 21.34375 51.125 25.703125 53.5625 \r\nQ 30.078125 56 35.796875 56 \r\nQ 45.21875 56 50.046875 50.171875 \r\nQ 54.890625 44.34375 54.890625 33.015625 \r\nz\r\n\" id=\"DejaVuSans-110\"/>\r\n       </defs>\r\n       <use xlink:href=\"#DejaVuSans-71\"/>\r\n       <use x=\"77.490234\" xlink:href=\"#DejaVuSans-101\"/>\r\n       <use x=\"139.013672\" xlink:href=\"#DejaVuSans-110\"/>\r\n       <use x=\"202.392578\" xlink:href=\"#DejaVuSans-100\"/>\r\n       <use x=\"265.869141\" xlink:href=\"#DejaVuSans-101\"/>\r\n       <use x=\"327.392578\" xlink:href=\"#DejaVuSans-114\"/>\r\n      </g>\r\n     </g>\r\n    </g>\r\n    <g id=\"xtick_5\">\r\n     <g id=\"line2d_9\">\r\n      <g>\r\n       <use style=\"stroke:#000000;stroke-width:0.8;\" x=\"320.364687\" xlink:href=\"#m638f447b0e\" y=\"621.838125\"/>\r\n      </g>\r\n     </g>\r\n     <g id=\"line2d_10\">\r\n      <g>\r\n       <use style=\"stroke:#000000;stroke-width:0.8;\" x=\"320.364687\" xlink:href=\"#mc26fa4281a\" y=\"23.878125\"/>\r\n      </g>\r\n     </g>\r\n     <g id=\"text_5\">\r\n      <!-- Age -->\r\n      <g transform=\"translate(310.693594 14.798437)scale(0.1 -0.1)\">\r\n       <defs>\r\n        <path d=\"M 34.1875 63.1875 \r\nL 20.796875 26.90625 \r\nL 47.609375 26.90625 \r\nz\r\nM 28.609375 72.90625 \r\nL 39.796875 72.90625 \r\nL 67.578125 0 \r\nL 57.328125 0 \r\nL 50.6875 18.703125 \r\nL 17.828125 18.703125 \r\nL 11.1875 0 \r\nL 0.78125 0 \r\nz\r\n\" id=\"DejaVuSans-65\"/>\r\n        <path d=\"M 45.40625 27.984375 \r\nQ 45.40625 37.75 41.375 43.109375 \r\nQ 37.359375 48.484375 30.078125 48.484375 \r\nQ 22.859375 48.484375 18.828125 43.109375 \r\nQ 14.796875 37.75 14.796875 27.984375 \r\nQ 14.796875 18.265625 18.828125 12.890625 \r\nQ 22.859375 7.515625 30.078125 7.515625 \r\nQ 37.359375 7.515625 41.375 12.890625 \r\nQ 45.40625 18.265625 45.40625 27.984375 \r\nz\r\nM 54.390625 6.78125 \r\nQ 54.390625 -7.171875 48.1875 -13.984375 \r\nQ 42 -20.796875 29.203125 -20.796875 \r\nQ 24.46875 -20.796875 20.265625 -20.09375 \r\nQ 16.0625 -19.390625 12.109375 -17.921875 \r\nL 12.109375 -9.1875 \r\nQ 16.0625 -11.328125 19.921875 -12.34375 \r\nQ 23.78125 -13.375 27.78125 -13.375 \r\nQ 36.625 -13.375 41.015625 -8.765625 \r\nQ 45.40625 -4.15625 45.40625 5.171875 \r\nL 45.40625 9.625 \r\nQ 42.625 4.78125 38.28125 2.390625 \r\nQ 33.9375 0 27.875 0 \r\nQ 17.828125 0 11.671875 7.65625 \r\nQ 5.515625 15.328125 5.515625 27.984375 \r\nQ 5.515625 40.671875 11.671875 48.328125 \r\nQ 17.828125 56 27.875 56 \r\nQ 33.9375 56 38.28125 53.609375 \r\nQ 42.625 51.21875 45.40625 46.390625 \r\nL 45.40625 54.6875 \r\nL 54.390625 54.6875 \r\nz\r\n\" id=\"DejaVuSans-103\"/>\r\n       </defs>\r\n       <use xlink:href=\"#DejaVuSans-65\"/>\r\n       <use x=\"68.408203\" xlink:href=\"#DejaVuSans-103\"/>\r\n       <use x=\"131.884766\" xlink:href=\"#DejaVuSans-101\"/>\r\n      </g>\r\n     </g>\r\n    </g>\r\n    <g id=\"xtick_6\">\r\n     <g id=\"line2d_11\">\r\n      <g>\r\n       <use style=\"stroke:#000000;stroke-width:0.8;\" x=\"370.194687\" xlink:href=\"#m638f447b0e\" y=\"621.838125\"/>\r\n      </g>\r\n     </g>\r\n     <g id=\"line2d_12\">\r\n      <g>\r\n       <use style=\"stroke:#000000;stroke-width:0.8;\" x=\"370.194687\" xlink:href=\"#mc26fa4281a\" y=\"23.878125\"/>\r\n      </g>\r\n     </g>\r\n     <g id=\"text_6\">\r\n      <!-- Tenure -->\r\n      <g transform=\"translate(353.557187 14.798437)scale(0.1 -0.1)\">\r\n       <defs>\r\n        <path d=\"M -0.296875 72.90625 \r\nL 61.375 72.90625 \r\nL 61.375 64.59375 \r\nL 35.5 64.59375 \r\nL 35.5 0 \r\nL 25.59375 0 \r\nL 25.59375 64.59375 \r\nL -0.296875 64.59375 \r\nz\r\n\" id=\"DejaVuSans-84\"/>\r\n       </defs>\r\n       <use xlink:href=\"#DejaVuSans-84\"/>\r\n       <use x=\"44.083984\" xlink:href=\"#DejaVuSans-101\"/>\r\n       <use x=\"105.607422\" xlink:href=\"#DejaVuSans-110\"/>\r\n       <use x=\"168.986328\" xlink:href=\"#DejaVuSans-117\"/>\r\n       <use x=\"232.365234\" xlink:href=\"#DejaVuSans-114\"/>\r\n       <use x=\"271.228516\" xlink:href=\"#DejaVuSans-101\"/>\r\n      </g>\r\n     </g>\r\n    </g>\r\n    <g id=\"xtick_7\">\r\n     <g id=\"line2d_13\">\r\n      <g>\r\n       <use style=\"stroke:#000000;stroke-width:0.8;\" x=\"420.024687\" xlink:href=\"#m638f447b0e\" y=\"621.838125\"/>\r\n      </g>\r\n     </g>\r\n     <g id=\"line2d_14\">\r\n      <g>\r\n       <use style=\"stroke:#000000;stroke-width:0.8;\" x=\"420.024687\" xlink:href=\"#mc26fa4281a\" y=\"23.878125\"/>\r\n      </g>\r\n     </g>\r\n     <g id=\"text_7\">\r\n      <!-- Balance -->\r\n      <g transform=\"translate(400.0825 14.798437)scale(0.1 -0.1)\">\r\n       <defs>\r\n        <path d=\"M 19.671875 34.8125 \r\nL 19.671875 8.109375 \r\nL 35.5 8.109375 \r\nQ 43.453125 8.109375 47.28125 11.40625 \r\nQ 51.125 14.703125 51.125 21.484375 \r\nQ 51.125 28.328125 47.28125 31.5625 \r\nQ 43.453125 34.8125 35.5 34.8125 \r\nz\r\nM 19.671875 64.796875 \r\nL 19.671875 42.828125 \r\nL 34.28125 42.828125 \r\nQ 41.5 42.828125 45.03125 45.53125 \r\nQ 48.578125 48.25 48.578125 53.8125 \r\nQ 48.578125 59.328125 45.03125 62.0625 \r\nQ 41.5 64.796875 34.28125 64.796875 \r\nz\r\nM 9.8125 72.90625 \r\nL 35.015625 72.90625 \r\nQ 46.296875 72.90625 52.390625 68.21875 \r\nQ 58.5 63.53125 58.5 54.890625 \r\nQ 58.5 48.1875 55.375 44.234375 \r\nQ 52.25 40.28125 46.1875 39.3125 \r\nQ 53.46875 37.75 57.5 32.78125 \r\nQ 61.53125 27.828125 61.53125 20.40625 \r\nQ 61.53125 10.640625 54.890625 5.3125 \r\nQ 48.25 0 35.984375 0 \r\nL 9.8125 0 \r\nz\r\n\" id=\"DejaVuSans-66\"/>\r\n        <path d=\"M 34.28125 27.484375 \r\nQ 23.390625 27.484375 19.1875 25 \r\nQ 14.984375 22.515625 14.984375 16.5 \r\nQ 14.984375 11.71875 18.140625 8.90625 \r\nQ 21.296875 6.109375 26.703125 6.109375 \r\nQ 34.1875 6.109375 38.703125 11.40625 \r\nQ 43.21875 16.703125 43.21875 25.484375 \r\nL 43.21875 27.484375 \r\nz\r\nM 52.203125 31.203125 \r\nL 52.203125 0 \r\nL 43.21875 0 \r\nL 43.21875 8.296875 \r\nQ 40.140625 3.328125 35.546875 0.953125 \r\nQ 30.953125 -1.421875 24.3125 -1.421875 \r\nQ 15.921875 -1.421875 10.953125 3.296875 \r\nQ 6 8.015625 6 15.921875 \r\nQ 6 25.140625 12.171875 29.828125 \r\nQ 18.359375 34.515625 30.609375 34.515625 \r\nL 43.21875 34.515625 \r\nL 43.21875 35.40625 \r\nQ 43.21875 41.609375 39.140625 45 \r\nQ 35.0625 48.390625 27.6875 48.390625 \r\nQ 23 48.390625 18.546875 47.265625 \r\nQ 14.109375 46.140625 10.015625 43.890625 \r\nL 10.015625 52.203125 \r\nQ 14.9375 54.109375 19.578125 55.046875 \r\nQ 24.21875 56 28.609375 56 \r\nQ 40.484375 56 46.34375 49.84375 \r\nQ 52.203125 43.703125 52.203125 31.203125 \r\nz\r\n\" id=\"DejaVuSans-97\"/>\r\n        <path d=\"M 9.421875 75.984375 \r\nL 18.40625 75.984375 \r\nL 18.40625 0 \r\nL 9.421875 0 \r\nz\r\n\" id=\"DejaVuSans-108\"/>\r\n       </defs>\r\n       <use xlink:href=\"#DejaVuSans-66\"/>\r\n       <use x=\"68.603516\" xlink:href=\"#DejaVuSans-97\"/>\r\n       <use x=\"129.882812\" xlink:href=\"#DejaVuSans-108\"/>\r\n       <use x=\"157.666016\" xlink:href=\"#DejaVuSans-97\"/>\r\n       <use x=\"218.945312\" xlink:href=\"#DejaVuSans-110\"/>\r\n       <use x=\"282.324219\" xlink:href=\"#DejaVuSans-99\"/>\r\n       <use x=\"337.304688\" xlink:href=\"#DejaVuSans-101\"/>\r\n      </g>\r\n     </g>\r\n    </g>\r\n    <g id=\"xtick_8\">\r\n     <g id=\"line2d_15\">\r\n      <g>\r\n       <use style=\"stroke:#000000;stroke-width:0.8;\" x=\"469.854687\" xlink:href=\"#m638f447b0e\" y=\"621.838125\"/>\r\n      </g>\r\n     </g>\r\n     <g id=\"line2d_16\">\r\n      <g>\r\n       <use style=\"stroke:#000000;stroke-width:0.8;\" x=\"469.854687\" xlink:href=\"#mc26fa4281a\" y=\"23.878125\"/>\r\n      </g>\r\n     </g>\r\n     <g id=\"text_8\">\r\n      <!-- NumOfProducts -->\r\n      <g transform=\"translate(430.792187 14.798437)scale(0.1 -0.1)\">\r\n       <defs>\r\n        <path d=\"M 39.40625 66.21875 \r\nQ 28.65625 66.21875 22.328125 58.203125 \r\nQ 16.015625 50.203125 16.015625 36.375 \r\nQ 16.015625 22.609375 22.328125 14.59375 \r\nQ 28.65625 6.59375 39.40625 6.59375 \r\nQ 50.140625 6.59375 56.421875 14.59375 \r\nQ 62.703125 22.609375 62.703125 36.375 \r\nQ 62.703125 50.203125 56.421875 58.203125 \r\nQ 50.140625 66.21875 39.40625 66.21875 \r\nz\r\nM 39.40625 74.21875 \r\nQ 54.734375 74.21875 63.90625 63.9375 \r\nQ 73.09375 53.65625 73.09375 36.375 \r\nQ 73.09375 19.140625 63.90625 8.859375 \r\nQ 54.734375 -1.421875 39.40625 -1.421875 \r\nQ 24.03125 -1.421875 14.8125 8.828125 \r\nQ 5.609375 19.09375 5.609375 36.375 \r\nQ 5.609375 53.65625 14.8125 63.9375 \r\nQ 24.03125 74.21875 39.40625 74.21875 \r\nz\r\n\" id=\"DejaVuSans-79\"/>\r\n        <path d=\"M 37.109375 75.984375 \r\nL 37.109375 68.5 \r\nL 28.515625 68.5 \r\nQ 23.6875 68.5 21.796875 66.546875 \r\nQ 19.921875 64.59375 19.921875 59.515625 \r\nL 19.921875 54.6875 \r\nL 34.71875 54.6875 \r\nL 34.71875 47.703125 \r\nL 19.921875 47.703125 \r\nL 19.921875 0 \r\nL 10.890625 0 \r\nL 10.890625 47.703125 \r\nL 2.296875 47.703125 \r\nL 2.296875 54.6875 \r\nL 10.890625 54.6875 \r\nL 10.890625 58.5 \r\nQ 10.890625 67.625 15.140625 71.796875 \r\nQ 19.390625 75.984375 28.609375 75.984375 \r\nz\r\n\" id=\"DejaVuSans-102\"/>\r\n        <path d=\"M 19.671875 64.796875 \r\nL 19.671875 37.40625 \r\nL 32.078125 37.40625 \r\nQ 38.96875 37.40625 42.71875 40.96875 \r\nQ 46.484375 44.53125 46.484375 51.125 \r\nQ 46.484375 57.671875 42.71875 61.234375 \r\nQ 38.96875 64.796875 32.078125 64.796875 \r\nz\r\nM 9.8125 72.90625 \r\nL 32.078125 72.90625 \r\nQ 44.34375 72.90625 50.609375 67.359375 \r\nQ 56.890625 61.8125 56.890625 51.125 \r\nQ 56.890625 40.328125 50.609375 34.8125 \r\nQ 44.34375 29.296875 32.078125 29.296875 \r\nL 19.671875 29.296875 \r\nL 19.671875 0 \r\nL 9.8125 0 \r\nz\r\n\" id=\"DejaVuSans-80\"/>\r\n       </defs>\r\n       <use xlink:href=\"#DejaVuSans-78\"/>\r\n       <use x=\"74.804688\" xlink:href=\"#DejaVuSans-117\"/>\r\n       <use x=\"138.183594\" xlink:href=\"#DejaVuSans-109\"/>\r\n       <use x=\"235.595703\" xlink:href=\"#DejaVuSans-79\"/>\r\n       <use x=\"314.306641\" xlink:href=\"#DejaVuSans-102\"/>\r\n       <use x=\"349.511719\" xlink:href=\"#DejaVuSans-80\"/>\r\n       <use x=\"408.064453\" xlink:href=\"#DejaVuSans-114\"/>\r\n       <use x=\"446.927734\" xlink:href=\"#DejaVuSans-111\"/>\r\n       <use x=\"508.109375\" xlink:href=\"#DejaVuSans-100\"/>\r\n       <use x=\"571.585938\" xlink:href=\"#DejaVuSans-117\"/>\r\n       <use x=\"634.964844\" xlink:href=\"#DejaVuSans-99\"/>\r\n       <use x=\"689.945312\" xlink:href=\"#DejaVuSans-116\"/>\r\n       <use x=\"729.154297\" xlink:href=\"#DejaVuSans-115\"/>\r\n      </g>\r\n     </g>\r\n    </g>\r\n    <g id=\"xtick_9\">\r\n     <g id=\"line2d_17\">\r\n      <g>\r\n       <use style=\"stroke:#000000;stroke-width:0.8;\" x=\"519.684687\" xlink:href=\"#m638f447b0e\" y=\"621.838125\"/>\r\n      </g>\r\n     </g>\r\n     <g id=\"line2d_18\">\r\n      <g>\r\n       <use style=\"stroke:#000000;stroke-width:0.8;\" x=\"519.684687\" xlink:href=\"#mc26fa4281a\" y=\"23.878125\"/>\r\n      </g>\r\n     </g>\r\n     <g id=\"text_9\">\r\n      <!-- HasCrCard -->\r\n      <g transform=\"translate(493.01125 14.798437)scale(0.1 -0.1)\">\r\n       <defs>\r\n        <path d=\"M 9.8125 72.90625 \r\nL 19.671875 72.90625 \r\nL 19.671875 43.015625 \r\nL 55.515625 43.015625 \r\nL 55.515625 72.90625 \r\nL 65.375 72.90625 \r\nL 65.375 0 \r\nL 55.515625 0 \r\nL 55.515625 34.71875 \r\nL 19.671875 34.71875 \r\nL 19.671875 0 \r\nL 9.8125 0 \r\nz\r\n\" id=\"DejaVuSans-72\"/>\r\n       </defs>\r\n       <use xlink:href=\"#DejaVuSans-72\"/>\r\n       <use x=\"75.195312\" xlink:href=\"#DejaVuSans-97\"/>\r\n       <use x=\"136.474609\" xlink:href=\"#DejaVuSans-115\"/>\r\n       <use x=\"188.574219\" xlink:href=\"#DejaVuSans-67\"/>\r\n       <use x=\"258.398438\" xlink:href=\"#DejaVuSans-114\"/>\r\n       <use x=\"299.511719\" xlink:href=\"#DejaVuSans-67\"/>\r\n       <use x=\"369.335938\" xlink:href=\"#DejaVuSans-97\"/>\r\n       <use x=\"430.615234\" xlink:href=\"#DejaVuSans-114\"/>\r\n       <use x=\"469.978516\" xlink:href=\"#DejaVuSans-100\"/>\r\n      </g>\r\n     </g>\r\n    </g>\r\n    <g id=\"xtick_10\">\r\n     <g id=\"line2d_19\">\r\n      <g>\r\n       <use style=\"stroke:#000000;stroke-width:0.8;\" x=\"569.514687\" xlink:href=\"#m638f447b0e\" y=\"621.838125\"/>\r\n      </g>\r\n     </g>\r\n     <g id=\"line2d_20\">\r\n      <g>\r\n       <use style=\"stroke:#000000;stroke-width:0.8;\" x=\"569.514687\" xlink:href=\"#mc26fa4281a\" y=\"23.878125\"/>\r\n      </g>\r\n     </g>\r\n     <g id=\"text_10\">\r\n      <!-- IsActiveMember -->\r\n      <g transform=\"translate(529.400625 14.798437)scale(0.1 -0.1)\">\r\n       <defs>\r\n        <path d=\"M 2.984375 54.6875 \r\nL 12.5 54.6875 \r\nL 29.59375 8.796875 \r\nL 46.6875 54.6875 \r\nL 56.203125 54.6875 \r\nL 35.6875 0 \r\nL 23.484375 0 \r\nz\r\n\" id=\"DejaVuSans-118\"/>\r\n        <path d=\"M 9.8125 72.90625 \r\nL 24.515625 72.90625 \r\nL 43.109375 23.296875 \r\nL 61.8125 72.90625 \r\nL 76.515625 72.90625 \r\nL 76.515625 0 \r\nL 66.890625 0 \r\nL 66.890625 64.015625 \r\nL 48.09375 14.015625 \r\nL 38.1875 14.015625 \r\nL 19.390625 64.015625 \r\nL 19.390625 0 \r\nL 9.8125 0 \r\nz\r\n\" id=\"DejaVuSans-77\"/>\r\n       </defs>\r\n       <use xlink:href=\"#DejaVuSans-73\"/>\r\n       <use x=\"29.492188\" xlink:href=\"#DejaVuSans-115\"/>\r\n       <use x=\"81.591797\" xlink:href=\"#DejaVuSans-65\"/>\r\n       <use x=\"148.25\" xlink:href=\"#DejaVuSans-99\"/>\r\n       <use x=\"203.230469\" xlink:href=\"#DejaVuSans-116\"/>\r\n       <use x=\"242.439453\" xlink:href=\"#DejaVuSans-105\"/>\r\n       <use x=\"270.222656\" xlink:href=\"#DejaVuSans-118\"/>\r\n       <use x=\"329.402344\" xlink:href=\"#DejaVuSans-101\"/>\r\n       <use x=\"390.925781\" xlink:href=\"#DejaVuSans-77\"/>\r\n       <use x=\"477.205078\" xlink:href=\"#DejaVuSans-101\"/>\r\n       <use x=\"538.728516\" xlink:href=\"#DejaVuSans-109\"/>\r\n       <use x=\"636.140625\" xlink:href=\"#DejaVuSans-98\"/>\r\n       <use x=\"699.617188\" xlink:href=\"#DejaVuSans-101\"/>\r\n       <use x=\"761.140625\" xlink:href=\"#DejaVuSans-114\"/>\r\n      </g>\r\n     </g>\r\n    </g>\r\n    <g id=\"xtick_11\">\r\n     <g id=\"line2d_21\">\r\n      <g>\r\n       <use style=\"stroke:#000000;stroke-width:0.8;\" x=\"619.344687\" xlink:href=\"#m638f447b0e\" y=\"621.838125\"/>\r\n      </g>\r\n     </g>\r\n     <g id=\"line2d_22\">\r\n      <g>\r\n       <use style=\"stroke:#000000;stroke-width:0.8;\" x=\"619.344687\" xlink:href=\"#mc26fa4281a\" y=\"23.878125\"/>\r\n      </g>\r\n     </g>\r\n     <g id=\"text_11\">\r\n      <!-- EstimatedSalary -->\r\n      <g transform=\"translate(578.379844 14.798437)scale(0.1 -0.1)\">\r\n       <defs>\r\n        <path d=\"M 9.8125 72.90625 \r\nL 55.90625 72.90625 \r\nL 55.90625 64.59375 \r\nL 19.671875 64.59375 \r\nL 19.671875 43.015625 \r\nL 54.390625 43.015625 \r\nL 54.390625 34.71875 \r\nL 19.671875 34.71875 \r\nL 19.671875 8.296875 \r\nL 56.78125 8.296875 \r\nL 56.78125 0 \r\nL 9.8125 0 \r\nz\r\n\" id=\"DejaVuSans-69\"/>\r\n        <path d=\"M 32.171875 -5.078125 \r\nQ 28.375 -14.84375 24.75 -17.8125 \r\nQ 21.140625 -20.796875 15.09375 -20.796875 \r\nL 7.90625 -20.796875 \r\nL 7.90625 -13.28125 \r\nL 13.1875 -13.28125 \r\nQ 16.890625 -13.28125 18.9375 -11.515625 \r\nQ 21 -9.765625 23.484375 -3.21875 \r\nL 25.09375 0.875 \r\nL 2.984375 54.6875 \r\nL 12.5 54.6875 \r\nL 29.59375 11.921875 \r\nL 46.6875 54.6875 \r\nL 56.203125 54.6875 \r\nz\r\n\" id=\"DejaVuSans-121\"/>\r\n       </defs>\r\n       <use xlink:href=\"#DejaVuSans-69\"/>\r\n       <use x=\"63.183594\" xlink:href=\"#DejaVuSans-115\"/>\r\n       <use x=\"115.283203\" xlink:href=\"#DejaVuSans-116\"/>\r\n       <use x=\"154.492188\" xlink:href=\"#DejaVuSans-105\"/>\r\n       <use x=\"182.275391\" xlink:href=\"#DejaVuSans-109\"/>\r\n       <use x=\"279.6875\" xlink:href=\"#DejaVuSans-97\"/>\r\n       <use x=\"340.966797\" xlink:href=\"#DejaVuSans-116\"/>\r\n       <use x=\"380.175781\" xlink:href=\"#DejaVuSans-101\"/>\r\n       <use x=\"441.699219\" xlink:href=\"#DejaVuSans-100\"/>\r\n       <use x=\"505.175781\" xlink:href=\"#DejaVuSans-83\"/>\r\n       <use x=\"568.652344\" xlink:href=\"#DejaVuSans-97\"/>\r\n       <use x=\"629.931641\" xlink:href=\"#DejaVuSans-108\"/>\r\n       <use x=\"657.714844\" xlink:href=\"#DejaVuSans-97\"/>\r\n       <use x=\"718.994141\" xlink:href=\"#DejaVuSans-114\"/>\r\n       <use x=\"760.107422\" xlink:href=\"#DejaVuSans-121\"/>\r\n      </g>\r\n     </g>\r\n    </g>\r\n    <g id=\"xtick_12\">\r\n     <g id=\"line2d_23\">\r\n      <g>\r\n       <use style=\"stroke:#000000;stroke-width:0.8;\" x=\"669.174687\" xlink:href=\"#m638f447b0e\" y=\"621.838125\"/>\r\n      </g>\r\n     </g>\r\n     <g id=\"line2d_24\">\r\n      <g>\r\n       <use style=\"stroke:#000000;stroke-width:0.8;\" x=\"669.174687\" xlink:href=\"#mc26fa4281a\" y=\"23.878125\"/>\r\n      </g>\r\n     </g>\r\n     <g id=\"text_12\">\r\n      <!-- Exited -->\r\n      <g transform=\"translate(653.455937 14.798437)scale(0.1 -0.1)\">\r\n       <defs>\r\n        <path d=\"M 54.890625 54.6875 \r\nL 35.109375 28.078125 \r\nL 55.90625 0 \r\nL 45.3125 0 \r\nL 29.390625 21.484375 \r\nL 13.484375 0 \r\nL 2.875 0 \r\nL 24.125 28.609375 \r\nL 4.6875 54.6875 \r\nL 15.28125 54.6875 \r\nL 29.78125 35.203125 \r\nL 44.28125 54.6875 \r\nz\r\n\" id=\"DejaVuSans-120\"/>\r\n       </defs>\r\n       <use xlink:href=\"#DejaVuSans-69\"/>\r\n       <use x=\"63.183594\" xlink:href=\"#DejaVuSans-120\"/>\r\n       <use x=\"122.363281\" xlink:href=\"#DejaVuSans-105\"/>\r\n       <use x=\"150.146484\" xlink:href=\"#DejaVuSans-116\"/>\r\n       <use x=\"189.355469\" xlink:href=\"#DejaVuSans-101\"/>\r\n       <use x=\"250.878906\" xlink:href=\"#DejaVuSans-100\"/>\r\n      </g>\r\n     </g>\r\n    </g>\r\n   </g>\r\n   <g id=\"matplotlib.axis_2\">\r\n    <g id=\"ytick_1\">\r\n     <g id=\"line2d_25\">\r\n      <defs>\r\n       <path d=\"M 0 0 \r\nL -3.5 0 \r\n\" id=\"m8f8c492fbd\" style=\"stroke:#000000;stroke-width:0.8;\"/>\r\n      </defs>\r\n      <g>\r\n       <use style=\"stroke:#000000;stroke-width:0.8;\" x=\"96.129688\" xlink:href=\"#m8f8c492fbd\" y=\"48.793125\"/>\r\n      </g>\r\n     </g>\r\n     <g id=\"text_13\">\r\n      <!-- RowNumber -->\r\n      <g transform=\"translate(28.1625 52.592344)scale(0.1 -0.1)\">\r\n       <use xlink:href=\"#DejaVuSans-82\"/>\r\n       <use x=\"64.982422\" xlink:href=\"#DejaVuSans-111\"/>\r\n       <use x=\"126.164062\" xlink:href=\"#DejaVuSans-119\"/>\r\n       <use x=\"207.951172\" xlink:href=\"#DejaVuSans-78\"/>\r\n       <use x=\"282.755859\" xlink:href=\"#DejaVuSans-117\"/>\r\n       <use x=\"346.134766\" xlink:href=\"#DejaVuSans-109\"/>\r\n       <use x=\"443.546875\" xlink:href=\"#DejaVuSans-98\"/>\r\n       <use x=\"507.023438\" xlink:href=\"#DejaVuSans-101\"/>\r\n       <use x=\"568.546875\" xlink:href=\"#DejaVuSans-114\"/>\r\n      </g>\r\n     </g>\r\n    </g>\r\n    <g id=\"ytick_2\">\r\n     <g id=\"line2d_26\">\r\n      <g>\r\n       <use style=\"stroke:#000000;stroke-width:0.8;\" x=\"96.129688\" xlink:href=\"#m8f8c492fbd\" y=\"98.623125\"/>\r\n      </g>\r\n     </g>\r\n     <g id=\"text_14\">\r\n      <!-- CustomerId -->\r\n      <g transform=\"translate(31.257812 102.422344)scale(0.1 -0.1)\">\r\n       <use xlink:href=\"#DejaVuSans-67\"/>\r\n       <use x=\"69.824219\" xlink:href=\"#DejaVuSans-117\"/>\r\n       <use x=\"133.203125\" xlink:href=\"#DejaVuSans-115\"/>\r\n       <use x=\"185.302734\" xlink:href=\"#DejaVuSans-116\"/>\r\n       <use x=\"224.511719\" xlink:href=\"#DejaVuSans-111\"/>\r\n       <use x=\"285.693359\" xlink:href=\"#DejaVuSans-109\"/>\r\n       <use x=\"383.105469\" xlink:href=\"#DejaVuSans-101\"/>\r\n       <use x=\"444.628906\" xlink:href=\"#DejaVuSans-114\"/>\r\n       <use x=\"485.742188\" xlink:href=\"#DejaVuSans-73\"/>\r\n       <use x=\"515.234375\" xlink:href=\"#DejaVuSans-100\"/>\r\n      </g>\r\n     </g>\r\n    </g>\r\n    <g id=\"ytick_3\">\r\n     <g id=\"line2d_27\">\r\n      <g>\r\n       <use style=\"stroke:#000000;stroke-width:0.8;\" x=\"96.129688\" xlink:href=\"#m8f8c492fbd\" y=\"148.453125\"/>\r\n      </g>\r\n     </g>\r\n     <g id=\"text_15\">\r\n      <!-- CreditScore -->\r\n      <g transform=\"translate(31.05625 152.252344)scale(0.1 -0.1)\">\r\n       <use xlink:href=\"#DejaVuSans-67\"/>\r\n       <use x=\"69.824219\" xlink:href=\"#DejaVuSans-114\"/>\r\n       <use x=\"108.6875\" xlink:href=\"#DejaVuSans-101\"/>\r\n       <use x=\"170.210938\" xlink:href=\"#DejaVuSans-100\"/>\r\n       <use x=\"233.6875\" xlink:href=\"#DejaVuSans-105\"/>\r\n       <use x=\"261.470703\" xlink:href=\"#DejaVuSans-116\"/>\r\n       <use x=\"300.679688\" xlink:href=\"#DejaVuSans-83\"/>\r\n       <use x=\"364.15625\" xlink:href=\"#DejaVuSans-99\"/>\r\n       <use x=\"419.136719\" xlink:href=\"#DejaVuSans-111\"/>\r\n       <use x=\"480.318359\" xlink:href=\"#DejaVuSans-114\"/>\r\n       <use x=\"519.181641\" xlink:href=\"#DejaVuSans-101\"/>\r\n      </g>\r\n     </g>\r\n    </g>\r\n    <g id=\"ytick_4\">\r\n     <g id=\"line2d_28\">\r\n      <g>\r\n       <use style=\"stroke:#000000;stroke-width:0.8;\" x=\"96.129688\" xlink:href=\"#m8f8c492fbd\" y=\"198.283125\"/>\r\n      </g>\r\n     </g>\r\n     <g id=\"text_16\">\r\n      <!-- Gender -->\r\n      <g transform=\"translate(52.278125 202.082344)scale(0.1 -0.1)\">\r\n       <use xlink:href=\"#DejaVuSans-71\"/>\r\n       <use x=\"77.490234\" xlink:href=\"#DejaVuSans-101\"/>\r\n       <use x=\"139.013672\" xlink:href=\"#DejaVuSans-110\"/>\r\n       <use x=\"202.392578\" xlink:href=\"#DejaVuSans-100\"/>\r\n       <use x=\"265.869141\" xlink:href=\"#DejaVuSans-101\"/>\r\n       <use x=\"327.392578\" xlink:href=\"#DejaVuSans-114\"/>\r\n      </g>\r\n     </g>\r\n    </g>\r\n    <g id=\"ytick_5\">\r\n     <g id=\"line2d_29\">\r\n      <g>\r\n       <use style=\"stroke:#000000;stroke-width:0.8;\" x=\"96.129688\" xlink:href=\"#m8f8c492fbd\" y=\"248.113125\"/>\r\n      </g>\r\n     </g>\r\n     <g id=\"text_17\">\r\n      <!-- Age -->\r\n      <g transform=\"translate(69.7875 251.912344)scale(0.1 -0.1)\">\r\n       <use xlink:href=\"#DejaVuSans-65\"/>\r\n       <use x=\"68.408203\" xlink:href=\"#DejaVuSans-103\"/>\r\n       <use x=\"131.884766\" xlink:href=\"#DejaVuSans-101\"/>\r\n      </g>\r\n     </g>\r\n    </g>\r\n    <g id=\"ytick_6\">\r\n     <g id=\"line2d_30\">\r\n      <g>\r\n       <use style=\"stroke:#000000;stroke-width:0.8;\" x=\"96.129688\" xlink:href=\"#m8f8c492fbd\" y=\"297.943125\"/>\r\n      </g>\r\n     </g>\r\n     <g id=\"text_18\">\r\n      <!-- Tenure -->\r\n      <g transform=\"translate(55.854688 301.742344)scale(0.1 -0.1)\">\r\n       <use xlink:href=\"#DejaVuSans-84\"/>\r\n       <use x=\"44.083984\" xlink:href=\"#DejaVuSans-101\"/>\r\n       <use x=\"105.607422\" xlink:href=\"#DejaVuSans-110\"/>\r\n       <use x=\"168.986328\" xlink:href=\"#DejaVuSans-117\"/>\r\n       <use x=\"232.365234\" xlink:href=\"#DejaVuSans-114\"/>\r\n       <use x=\"271.228516\" xlink:href=\"#DejaVuSans-101\"/>\r\n      </g>\r\n     </g>\r\n    </g>\r\n    <g id=\"ytick_7\">\r\n     <g id=\"line2d_31\">\r\n      <g>\r\n       <use style=\"stroke:#000000;stroke-width:0.8;\" x=\"96.129688\" xlink:href=\"#m8f8c492fbd\" y=\"347.773125\"/>\r\n      </g>\r\n     </g>\r\n     <g id=\"text_19\">\r\n      <!-- Balance -->\r\n      <g transform=\"translate(49.245312 351.572344)scale(0.1 -0.1)\">\r\n       <use xlink:href=\"#DejaVuSans-66\"/>\r\n       <use x=\"68.603516\" xlink:href=\"#DejaVuSans-97\"/>\r\n       <use x=\"129.882812\" xlink:href=\"#DejaVuSans-108\"/>\r\n       <use x=\"157.666016\" xlink:href=\"#DejaVuSans-97\"/>\r\n       <use x=\"218.945312\" xlink:href=\"#DejaVuSans-110\"/>\r\n       <use x=\"282.324219\" xlink:href=\"#DejaVuSans-99\"/>\r\n       <use x=\"337.304688\" xlink:href=\"#DejaVuSans-101\"/>\r\n      </g>\r\n     </g>\r\n    </g>\r\n    <g id=\"ytick_8\">\r\n     <g id=\"line2d_32\">\r\n      <g>\r\n       <use style=\"stroke:#000000;stroke-width:0.8;\" x=\"96.129688\" xlink:href=\"#m8f8c492fbd\" y=\"397.603125\"/>\r\n      </g>\r\n     </g>\r\n     <g id=\"text_20\">\r\n      <!-- NumOfProducts -->\r\n      <g transform=\"translate(11.004688 401.402344)scale(0.1 -0.1)\">\r\n       <use xlink:href=\"#DejaVuSans-78\"/>\r\n       <use x=\"74.804688\" xlink:href=\"#DejaVuSans-117\"/>\r\n       <use x=\"138.183594\" xlink:href=\"#DejaVuSans-109\"/>\r\n       <use x=\"235.595703\" xlink:href=\"#DejaVuSans-79\"/>\r\n       <use x=\"314.306641\" xlink:href=\"#DejaVuSans-102\"/>\r\n       <use x=\"349.511719\" xlink:href=\"#DejaVuSans-80\"/>\r\n       <use x=\"408.064453\" xlink:href=\"#DejaVuSans-114\"/>\r\n       <use x=\"446.927734\" xlink:href=\"#DejaVuSans-111\"/>\r\n       <use x=\"508.109375\" xlink:href=\"#DejaVuSans-100\"/>\r\n       <use x=\"571.585938\" xlink:href=\"#DejaVuSans-117\"/>\r\n       <use x=\"634.964844\" xlink:href=\"#DejaVuSans-99\"/>\r\n       <use x=\"689.945312\" xlink:href=\"#DejaVuSans-116\"/>\r\n       <use x=\"729.154297\" xlink:href=\"#DejaVuSans-115\"/>\r\n      </g>\r\n     </g>\r\n    </g>\r\n    <g id=\"ytick_9\">\r\n     <g id=\"line2d_33\">\r\n      <g>\r\n       <use style=\"stroke:#000000;stroke-width:0.8;\" x=\"96.129688\" xlink:href=\"#m8f8c492fbd\" y=\"447.433125\"/>\r\n      </g>\r\n     </g>\r\n     <g id=\"text_21\">\r\n      <!-- HasCrCard -->\r\n      <g transform=\"translate(35.782812 451.232344)scale(0.1 -0.1)\">\r\n       <use xlink:href=\"#DejaVuSans-72\"/>\r\n       <use x=\"75.195312\" xlink:href=\"#DejaVuSans-97\"/>\r\n       <use x=\"136.474609\" xlink:href=\"#DejaVuSans-115\"/>\r\n       <use x=\"188.574219\" xlink:href=\"#DejaVuSans-67\"/>\r\n       <use x=\"258.398438\" xlink:href=\"#DejaVuSans-114\"/>\r\n       <use x=\"299.511719\" xlink:href=\"#DejaVuSans-67\"/>\r\n       <use x=\"369.335938\" xlink:href=\"#DejaVuSans-97\"/>\r\n       <use x=\"430.615234\" xlink:href=\"#DejaVuSans-114\"/>\r\n       <use x=\"469.978516\" xlink:href=\"#DejaVuSans-100\"/>\r\n      </g>\r\n     </g>\r\n    </g>\r\n    <g id=\"ytick_10\">\r\n     <g id=\"line2d_34\">\r\n      <g>\r\n       <use style=\"stroke:#000000;stroke-width:0.8;\" x=\"96.129688\" xlink:href=\"#m8f8c492fbd\" y=\"497.263125\"/>\r\n      </g>\r\n     </g>\r\n     <g id=\"text_22\">\r\n      <!-- IsActiveMember -->\r\n      <g transform=\"translate(8.901562 501.062344)scale(0.1 -0.1)\">\r\n       <use xlink:href=\"#DejaVuSans-73\"/>\r\n       <use x=\"29.492188\" xlink:href=\"#DejaVuSans-115\"/>\r\n       <use x=\"81.591797\" xlink:href=\"#DejaVuSans-65\"/>\r\n       <use x=\"148.25\" xlink:href=\"#DejaVuSans-99\"/>\r\n       <use x=\"203.230469\" xlink:href=\"#DejaVuSans-116\"/>\r\n       <use x=\"242.439453\" xlink:href=\"#DejaVuSans-105\"/>\r\n       <use x=\"270.222656\" xlink:href=\"#DejaVuSans-118\"/>\r\n       <use x=\"329.402344\" xlink:href=\"#DejaVuSans-101\"/>\r\n       <use x=\"390.925781\" xlink:href=\"#DejaVuSans-77\"/>\r\n       <use x=\"477.205078\" xlink:href=\"#DejaVuSans-101\"/>\r\n       <use x=\"538.728516\" xlink:href=\"#DejaVuSans-109\"/>\r\n       <use x=\"636.140625\" xlink:href=\"#DejaVuSans-98\"/>\r\n       <use x=\"699.617188\" xlink:href=\"#DejaVuSans-101\"/>\r\n       <use x=\"761.140625\" xlink:href=\"#DejaVuSans-114\"/>\r\n      </g>\r\n     </g>\r\n    </g>\r\n    <g id=\"ytick_11\">\r\n     <g id=\"line2d_35\">\r\n      <g>\r\n       <use style=\"stroke:#000000;stroke-width:0.8;\" x=\"96.129688\" xlink:href=\"#m8f8c492fbd\" y=\"547.093125\"/>\r\n      </g>\r\n     </g>\r\n     <g id=\"text_23\">\r\n      <!-- EstimatedSalary -->\r\n      <g transform=\"translate(7.2 550.892344)scale(0.1 -0.1)\">\r\n       <use xlink:href=\"#DejaVuSans-69\"/>\r\n       <use x=\"63.183594\" xlink:href=\"#DejaVuSans-115\"/>\r\n       <use x=\"115.283203\" xlink:href=\"#DejaVuSans-116\"/>\r\n       <use x=\"154.492188\" xlink:href=\"#DejaVuSans-105\"/>\r\n       <use x=\"182.275391\" xlink:href=\"#DejaVuSans-109\"/>\r\n       <use x=\"279.6875\" xlink:href=\"#DejaVuSans-97\"/>\r\n       <use x=\"340.966797\" xlink:href=\"#DejaVuSans-116\"/>\r\n       <use x=\"380.175781\" xlink:href=\"#DejaVuSans-101\"/>\r\n       <use x=\"441.699219\" xlink:href=\"#DejaVuSans-100\"/>\r\n       <use x=\"505.175781\" xlink:href=\"#DejaVuSans-83\"/>\r\n       <use x=\"568.652344\" xlink:href=\"#DejaVuSans-97\"/>\r\n       <use x=\"629.931641\" xlink:href=\"#DejaVuSans-108\"/>\r\n       <use x=\"657.714844\" xlink:href=\"#DejaVuSans-97\"/>\r\n       <use x=\"718.994141\" xlink:href=\"#DejaVuSans-114\"/>\r\n       <use x=\"760.107422\" xlink:href=\"#DejaVuSans-121\"/>\r\n      </g>\r\n     </g>\r\n    </g>\r\n    <g id=\"ytick_12\">\r\n     <g id=\"line2d_36\">\r\n      <g>\r\n       <use style=\"stroke:#000000;stroke-width:0.8;\" x=\"96.129688\" xlink:href=\"#m8f8c492fbd\" y=\"596.923125\"/>\r\n      </g>\r\n     </g>\r\n     <g id=\"text_24\">\r\n      <!-- Exited -->\r\n      <g transform=\"translate(57.692188 600.722344)scale(0.1 -0.1)\">\r\n       <use xlink:href=\"#DejaVuSans-69\"/>\r\n       <use x=\"63.183594\" xlink:href=\"#DejaVuSans-120\"/>\r\n       <use x=\"122.363281\" xlink:href=\"#DejaVuSans-105\"/>\r\n       <use x=\"150.146484\" xlink:href=\"#DejaVuSans-116\"/>\r\n       <use x=\"189.355469\" xlink:href=\"#DejaVuSans-101\"/>\r\n       <use x=\"250.878906\" xlink:href=\"#DejaVuSans-100\"/>\r\n      </g>\r\n     </g>\r\n    </g>\r\n   </g>\r\n   <g id=\"patch_3\">\r\n    <path d=\"M 96.129688 621.838125 \r\nL 96.129688 23.878125 \r\n\" style=\"fill:none;stroke:#000000;stroke-linecap:square;stroke-linejoin:miter;stroke-width:0.8;\"/>\r\n   </g>\r\n   <g id=\"patch_4\">\r\n    <path d=\"M 694.089687 621.838125 \r\nL 694.089687 23.878125 \r\n\" style=\"fill:none;stroke:#000000;stroke-linecap:square;stroke-linejoin:miter;stroke-width:0.8;\"/>\r\n   </g>\r\n   <g id=\"patch_5\">\r\n    <path d=\"M 96.129688 621.838125 \r\nL 694.089687 621.838125 \r\n\" style=\"fill:none;stroke:#000000;stroke-linecap:square;stroke-linejoin:miter;stroke-width:0.8;\"/>\r\n   </g>\r\n   <g id=\"patch_6\">\r\n    <path d=\"M 96.129688 23.878125 \r\nL 694.089687 23.878125 \r\n\" style=\"fill:none;stroke:#000000;stroke-linecap:square;stroke-linejoin:miter;stroke-width:0.8;\"/>\r\n   </g>\r\n  </g>\r\n </g>\r\n <defs>\r\n  <clipPath id=\"p3ae366c186\">\r\n   <rect height=\"597.96\" width=\"597.96\" x=\"96.129688\" y=\"23.878125\"/>\r\n  </clipPath>\r\n </defs>\r\n</svg>\r\n",
      "image/png": "[encoded data removed]"
     },
     "metadata": {
      "needs_background": "light"
     }
    }
   ],
   "source": [
    "corr = df.corr()\n",
    "fig, ax = plt.subplots(figsize=(11,11))\n",
    "ax.matshow(corr)\n",
    "plt.xticks(range(len(corr.columns)), corr.columns)\n",
    "plt.yticks(range(len(corr.columns)), corr.columns)"
   ]
  },
  {
   "cell_type": "code",
   "execution_count": 93,
   "metadata": {},
   "outputs": [
    {
     "output_type": "execute_result",
     "data": {
      "text/plain": [
       "                 RowNumber  CustomerId  CreditScore    Gender       Age  \\\n",
       "RowNumber         1.000000    0.004202     0.005840  0.018196  0.000783   \n",
       "CustomerId        0.004202    1.000000     0.005308 -0.002641  0.009497   \n",
       "CreditScore       0.005840    0.005308     1.000000 -0.002857 -0.003965   \n",
       "Gender            0.018196   -0.002641    -0.002857  1.000000 -0.027544   \n",
       "Age               0.000783    0.009497    -0.003965 -0.027544  1.000000   \n",
       "Tenure           -0.006495   -0.014883     0.000842  0.014733 -0.009997   \n",
       "Balance          -0.009067   -0.012419     0.006268  0.012087  0.028308   \n",
       "NumOfProducts     0.007246    0.016972     0.012238 -0.021859 -0.030680   \n",
       "HasCrCard         0.000599   -0.014025    -0.005458  0.005766 -0.011721   \n",
       "IsActiveMember    0.012044    0.001665     0.025651  0.022544  0.085472   \n",
       "EstimatedSalary  -0.005988    0.015271    -0.001384 -0.008112 -0.007201   \n",
       "Exited           -0.016571   -0.006248    -0.027094 -0.106512  0.285323   \n",
       "\n",
       "                   Tenure   Balance  NumOfProducts  HasCrCard  IsActiveMember  \\\n",
       "RowNumber       -0.006495 -0.009067       0.007246   0.000599        0.012044   \n",
       "CustomerId      -0.014883 -0.012419       0.016972  -0.014025        0.001665   \n",
       "CreditScore      0.000842  0.006268       0.012238  -0.005458        0.025651   \n",
       "Gender           0.014733  0.012087      -0.021859   0.005766        0.022544   \n",
       "Age             -0.009997  0.028308      -0.030680  -0.011721        0.085472   \n",
       "Tenure           1.000000 -0.012254       0.013444   0.022583       -0.028362   \n",
       "Balance         -0.012254  1.000000      -0.304180  -0.014858       -0.010084   \n",
       "NumOfProducts    0.013444 -0.304180       1.000000   0.003183        0.009612   \n",
       "HasCrCard        0.022583 -0.014858       0.003183   1.000000       -0.011866   \n",
       "IsActiveMember  -0.028362 -0.010084       0.009612  -0.011866        1.000000   \n",
       "EstimatedSalary  0.007784  0.012797       0.014204  -0.009933       -0.011421   \n",
       "Exited          -0.014001  0.118533      -0.047820  -0.007138       -0.156128   \n",
       "\n",
       "                 EstimatedSalary    Exited  \n",
       "RowNumber              -0.005988 -0.016571  \n",
       "CustomerId              0.015271 -0.006248  \n",
       "CreditScore            -0.001384 -0.027094  \n",
       "Gender                 -0.008112 -0.106512  \n",
       "Age                    -0.007201  0.285323  \n",
       "Tenure                  0.007784 -0.014001  \n",
       "Balance                 0.012797  0.118533  \n",
       "NumOfProducts           0.014204 -0.047820  \n",
       "HasCrCard              -0.009933 -0.007138  \n",
       "IsActiveMember         -0.011421 -0.156128  \n",
       "EstimatedSalary         1.000000  0.012097  \n",
       "Exited                  0.012097  1.000000  "
      ],
      "text/html": "<div>\n<style scoped>\n    .dataframe tbody tr th:only-of-type {\n        vertical-align: middle;\n    }\n\n    .dataframe tbody tr th {\n        vertical-align: top;\n    }\n\n    .dataframe thead th {\n        text-align: right;\n    }\n</style>\n<table border=\"1\" class=\"dataframe\">\n  <thead>\n    <tr style=\"text-align: right;\">\n      <th></th>\n      <th>RowNumber</th>\n      <th>CustomerId</th>\n      <th>CreditScore</th>\n      <th>Gender</th>\n      <th>Age</th>\n      <th>Tenure</th>\n      <th>Balance</th>\n      <th>NumOfProducts</th>\n      <th>HasCrCard</th>\n      <th>IsActiveMember</th>\n      <th>EstimatedSalary</th>\n      <th>Exited</th>\n    </tr>\n  </thead>\n  <tbody>\n    <tr>\n      <th>RowNumber</th>\n      <td>1.000000</td>\n      <td>0.004202</td>\n      <td>0.005840</td>\n      <td>0.018196</td>\n      <td>0.000783</td>\n      <td>-0.006495</td>\n      <td>-0.009067</td>\n      <td>0.007246</td>\n      <td>0.000599</td>\n      <td>0.012044</td>\n      <td>-0.005988</td>\n      <td>-0.016571</td>\n    </tr>\n    <tr>\n      <th>CustomerId</th>\n      <td>0.004202</td>\n      <td>1.000000</td>\n      <td>0.005308</td>\n      <td>-0.002641</td>\n      <td>0.009497</td>\n      <td>-0.014883</td>\n      <td>-0.012419</td>\n      <td>0.016972</td>\n      <td>-0.014025</td>\n      <td>0.001665</td>\n      <td>0.015271</td>\n      <td>-0.006248</td>\n    </tr>\n    <tr>\n      <th>CreditScore</th>\n      <td>0.005840</td>\n      <td>0.005308</td>\n      <td>1.000000</td>\n      <td>-0.002857</td>\n      <td>-0.003965</td>\n      <td>0.000842</td>\n      <td>0.006268</td>\n      <td>0.012238</td>\n      <td>-0.005458</td>\n      <td>0.025651</td>\n      <td>-0.001384</td>\n      <td>-0.027094</td>\n    </tr>\n    <tr>\n      <th>Gender</th>\n      <td>0.018196</td>\n      <td>-0.002641</td>\n      <td>-0.002857</td>\n      <td>1.000000</td>\n      <td>-0.027544</td>\n      <td>0.014733</td>\n      <td>0.012087</td>\n      <td>-0.021859</td>\n      <td>0.005766</td>\n      <td>0.022544</td>\n      <td>-0.008112</td>\n      <td>-0.106512</td>\n    </tr>\n    <tr>\n      <th>Age</th>\n      <td>0.000783</td>\n      <td>0.009497</td>\n      <td>-0.003965</td>\n      <td>-0.027544</td>\n      <td>1.000000</td>\n      <td>-0.009997</td>\n      <td>0.028308</td>\n      <td>-0.030680</td>\n      <td>-0.011721</td>\n      <td>0.085472</td>\n      <td>-0.007201</td>\n      <td>0.285323</td>\n    </tr>\n    <tr>\n      <th>Tenure</th>\n      <td>-0.006495</td>\n      <td>-0.014883</td>\n      <td>0.000842</td>\n      <td>0.014733</td>\n      <td>-0.009997</td>\n      <td>1.000000</td>\n      <td>-0.012254</td>\n      <td>0.013444</td>\n      <td>0.022583</td>\n      <td>-0.028362</td>\n      <td>0.007784</td>\n      <td>-0.014001</td>\n    </tr>\n    <tr>\n      <th>Balance</th>\n      <td>-0.009067</td>\n      <td>-0.012419</td>\n      <td>0.006268</td>\n      <td>0.012087</td>\n      <td>0.028308</td>\n      <td>-0.012254</td>\n      <td>1.000000</td>\n      <td>-0.304180</td>\n      <td>-0.014858</td>\n      <td>-0.010084</td>\n      <td>0.012797</td>\n      <td>0.118533</td>\n    </tr>\n    <tr>\n      <th>NumOfProducts</th>\n      <td>0.007246</td>\n      <td>0.016972</td>\n      <td>0.012238</td>\n      <td>-0.021859</td>\n      <td>-0.030680</td>\n      <td>0.013444</td>\n      <td>-0.304180</td>\n      <td>1.000000</td>\n      <td>0.003183</td>\n      <td>0.009612</td>\n      <td>0.014204</td>\n      <td>-0.047820</td>\n    </tr>\n    <tr>\n      <th>HasCrCard</th>\n      <td>0.000599</td>\n      <td>-0.014025</td>\n      <td>-0.005458</td>\n      <td>0.005766</td>\n      <td>-0.011721</td>\n      <td>0.022583</td>\n      <td>-0.014858</td>\n      <td>0.003183</td>\n      <td>1.000000</td>\n      <td>-0.011866</td>\n      <td>-0.009933</td>\n      <td>-0.007138</td>\n    </tr>\n    <tr>\n      <th>IsActiveMember</th>\n      <td>0.012044</td>\n      <td>0.001665</td>\n      <td>0.025651</td>\n      <td>0.022544</td>\n      <td>0.085472</td>\n      <td>-0.028362</td>\n      <td>-0.010084</td>\n      <td>0.009612</td>\n      <td>-0.011866</td>\n      <td>1.000000</td>\n      <td>-0.011421</td>\n      <td>-0.156128</td>\n    </tr>\n    <tr>\n      <th>EstimatedSalary</th>\n      <td>-0.005988</td>\n      <td>0.015271</td>\n      <td>-0.001384</td>\n      <td>-0.008112</td>\n      <td>-0.007201</td>\n      <td>0.007784</td>\n      <td>0.012797</td>\n      <td>0.014204</td>\n      <td>-0.009933</td>\n      <td>-0.011421</td>\n      <td>1.000000</td>\n      <td>0.012097</td>\n    </tr>\n    <tr>\n      <th>Exited</th>\n      <td>-0.016571</td>\n      <td>-0.006248</td>\n      <td>-0.027094</td>\n      <td>-0.106512</td>\n      <td>0.285323</td>\n      <td>-0.014001</td>\n      <td>0.118533</td>\n      <td>-0.047820</td>\n      <td>-0.007138</td>\n      <td>-0.156128</td>\n      <td>0.012097</td>\n      <td>1.000000</td>\n    </tr>\n  </tbody>\n</table>\n</div>"
     },
     "metadata": {},
     "execution_count": 93
    }
   ],
   "source": [
    "df.corr()"
   ]
  },
  {
   "source": [
    "## Check Exited true/false ratio"
   ],
   "cell_type": "markdown",
   "metadata": {}
  },
  {
   "cell_type": "code",
   "execution_count": 94,
   "metadata": {},
   "outputs": [
    {
     "output_type": "stream",
     "name": "stdout",
     "text": [
      "Number of clients exited : 2037 (20.37%)\nNumber of clients  not exited : 7963 (79.63%)\n"
     ]
    }
   ],
   "source": [
    "num_true = len(df.loc[df.Exited == True])\n",
    "num_false = len(df.loc[df.Exited == False])\n",
    "print(\"Number of clients exited : {0} ({1:2.2f}%)\".format(num_true, (num_true/ (num_true+ num_false)) * 100))\n",
    "print(\"Number of clients  not exited : {0} ({1:2.2f}%)\".format(num_false, (num_false/ (num_true+ num_false)) * 100))"
   ]
  },
  {
   "source": [
    "## Spliting the data\n",
    "70% for training | 30% for testing"
   ],
   "cell_type": "markdown",
   "metadata": {}
  },
  {
   "cell_type": "code",
   "execution_count": 95,
   "metadata": {},
   "outputs": [],
   "source": [
    " from sklearn.model_selection import train_test_split\n",
    "\n",
    " feature_col_names = list(df.columns)\n",
    " feature_col_names = [ele for ele in feature_col_names if ele not in {'Exited','Surname','Geography'}]\n",
    " predicted_class_names = ['Exited']\n",
    "x = df[feature_col_names].values\n",
    "y = df[predicted_class_names].values\n",
    "split_test_size = 0.30\n",
    "\n",
    "x_train, x_test, y_train, y_test = train_test_split(x,y, test_size=split_test_size, random_state=42)"
   ]
  },
  {
   "source": [
    "We check to ensure we have the desired 70% train, 30% test split of the data"
   ],
   "cell_type": "markdown",
   "metadata": {}
  },
  {
   "cell_type": "code",
   "execution_count": 96,
   "metadata": {},
   "outputs": [
    {
     "output_type": "stream",
     "name": "stdout",
     "text": [
      "70.00% in training set\n",
      "30.00% in test set\n"
     ]
    }
   ],
   "source": [
    "print(\"{0:0.2f}% in training set\".format((len(x_train)/ len(df.index)) * 100))\n",
    "print(\"{0:0.2f}% in test set\".format((len(x_test)/ len(df.index)) * 100))"
   ]
  },
  {
   "source": [
    "### Verifying predicted value was split correctly"
   ],
   "cell_type": "markdown",
   "metadata": {}
  },
  {
   "cell_type": "code",
   "execution_count": 97,
   "metadata": {},
   "outputs": [
    {
     "output_type": "stream",
     "name": "stdout",
     "text": [
      "Original - Number of clients exited : 2037 (20.37%)\nOriginal - Number of clients  not exited : 7963 (79.63%)\n--------------------------------------------------------------------------\nTraining - Number of clients exited : 1453 (20.76%)\nTraining - Number of clients exited : 5547 (79.24%)\n--------------------------------------------------------------------------\nTest - Number of clients exited : 584 (19.47%)\nTest - Number of clients exited : 2416 (80.53%)\n"
     ]
    }
   ],
   "source": [
    "print(\"Original - Number of clients exited : {0} ({1:0.2f}%)\".format(len(df.loc[df.Exited == True]), (len(df.loc[df.Exited == True])/ (len(df.index)) * 100)))\n",
    "print(\"Original - Number of clients  not exited : {0} ({1:0.2f}%)\".format(len(df.loc[df.Exited == False]), (len(df.loc[df.Exited == 0])/ (len(df.index)) * 100)))\n",
    "print('--------------------------------------------------------------------------')\n",
    "print(\"Training - Number of clients exited : {0} ({1:0.2f}%)\".format(len(y_train[y_train[:] == True]), (len(y_train[y_train[:] == True])/ (len(y_train)) * 100)))\n",
    "print(\"Training - Number of clients exited : {0} ({1:0.2f}%)\".format(len(y_train[y_train[:] == False]), (len(y_train[y_train[:] == False])/ (len(y_train)) * 100)))\n",
    "print('--------------------------------------------------------------------------')\n",
    "print(\"Test - Number of clients exited : {0} ({1:0.2f}%)\".format(len(y_test[y_test[:] == True]), (len(y_test[y_test[:] == True])/ (len(y_test)) * 100)))\n",
    "print(\"Test - Number of clients exited : {0} ({1:0.2f}%)\".format(len(y_test[y_test[:] == False]), (len(y_test[y_test[:] == False])/ (len(y_test)) * 100)))"
   ]
  },
  {
   "source": [
    "## Post-split Data preparation"
   ],
   "cell_type": "markdown",
   "metadata": {}
  },
  {
   "source": [
    "### Hidden Missing values"
   ],
   "cell_type": "markdown",
   "metadata": {}
  },
  {
   "cell_type": "code",
   "execution_count": 98,
   "metadata": {},
   "outputs": [
    {
     "output_type": "execute_result",
     "data": {
      "text/plain": [
       "   RowNumber  CustomerId   Surname  CreditScore Geography  Gender  Age  \\\n",
       "0          1    15634602  Hargrave          619    France       0   42   \n",
       "1          2    15647311      Hill          608     Spain       0   41   \n",
       "2          3    15619304      Onio          502    France       0   42   \n",
       "3          4    15701354      Boni          699    France       0   39   \n",
       "\n",
       "   Tenure    Balance  NumOfProducts  HasCrCard  IsActiveMember  \\\n",
       "0       2       0.00              1          1               1   \n",
       "1       1   83807.86              1          0               1   \n",
       "2       8  159660.80              3          1               0   \n",
       "3       1       0.00              2          0               0   \n",
       "\n",
       "   EstimatedSalary  Exited  \n",
       "0        101348.88       1  \n",
       "1        112542.58       0  \n",
       "2        113931.57       1  \n",
       "3         93826.63       0  "
      ],
      "text/html": "<div>\n<style scoped>\n    .dataframe tbody tr th:only-of-type {\n        vertical-align: middle;\n    }\n\n    .dataframe tbody tr th {\n        vertical-align: top;\n    }\n\n    .dataframe thead th {\n        text-align: right;\n    }\n</style>\n<table border=\"1\" class=\"dataframe\">\n  <thead>\n    <tr style=\"text-align: right;\">\n      <th></th>\n      <th>RowNumber</th>\n      <th>CustomerId</th>\n      <th>Surname</th>\n      <th>CreditScore</th>\n      <th>Geography</th>\n      <th>Gender</th>\n      <th>Age</th>\n      <th>Tenure</th>\n      <th>Balance</th>\n      <th>NumOfProducts</th>\n      <th>HasCrCard</th>\n      <th>IsActiveMember</th>\n      <th>EstimatedSalary</th>\n      <th>Exited</th>\n    </tr>\n  </thead>\n  <tbody>\n    <tr>\n      <th>0</th>\n      <td>1</td>\n      <td>15634602</td>\n      <td>Hargrave</td>\n      <td>619</td>\n      <td>France</td>\n      <td>0</td>\n      <td>42</td>\n      <td>2</td>\n      <td>0.00</td>\n      <td>1</td>\n      <td>1</td>\n      <td>1</td>\n      <td>101348.88</td>\n      <td>1</td>\n    </tr>\n    <tr>\n      <th>1</th>\n      <td>2</td>\n      <td>15647311</td>\n      <td>Hill</td>\n      <td>608</td>\n      <td>Spain</td>\n      <td>0</td>\n      <td>41</td>\n      <td>1</td>\n      <td>83807.86</td>\n      <td>1</td>\n      <td>0</td>\n      <td>1</td>\n      <td>112542.58</td>\n      <td>0</td>\n    </tr>\n    <tr>\n      <th>2</th>\n      <td>3</td>\n      <td>15619304</td>\n      <td>Onio</td>\n      <td>502</td>\n      <td>France</td>\n      <td>0</td>\n      <td>42</td>\n      <td>8</td>\n      <td>159660.80</td>\n      <td>3</td>\n      <td>1</td>\n      <td>0</td>\n      <td>113931.57</td>\n      <td>1</td>\n    </tr>\n    <tr>\n      <th>3</th>\n      <td>4</td>\n      <td>15701354</td>\n      <td>Boni</td>\n      <td>699</td>\n      <td>France</td>\n      <td>0</td>\n      <td>39</td>\n      <td>1</td>\n      <td>0.00</td>\n      <td>2</td>\n      <td>0</td>\n      <td>0</td>\n      <td>93826.63</td>\n      <td>0</td>\n    </tr>\n  </tbody>\n</table>\n</div>"
     },
     "metadata": {},
     "execution_count": 98
    }
   ],
   "source": [
    "df.head(4)"
   ]
  },
  {
   "source": [
    "Are these 0 values possible?\n",
    "\n",
    "How many rows have unexpected 0 values"
   ],
   "cell_type": "markdown",
   "metadata": {}
  },
  {
   "cell_type": "code",
   "execution_count": 99,
   "metadata": {},
   "outputs": [
    {
     "output_type": "stream",
     "name": "stdout",
     "text": [
      "# rows missing Age: 0\n# rows missing NumOfProducts: 0\n# rows missing CustomerId: 0\n# rows missing Gender: 4543\n# rows missing CreditScore: 0\n# rows missing Geography: 0\n# rows missing EstimatedSalary: 0\n"
     ]
    }
   ],
   "source": [
    "print(\"# rows missing Age: {0}\".format(len(df.loc[df.Age ==0])))\n",
    "print(\"# rows missing NumOfProducts: {0}\".format(len(df.loc[df.NumOfProducts ==0])))\n",
    "print(\"# rows missing CustomerId: {0}\".format(len(df.loc[df.CustomerId ==0])))\n",
    "print(\"# rows missing Gender: {0}\".format(len(df.loc[df.Gender ==0])))\n",
    "print(\"# rows missing CreditScore: {0}\".format(len(df.loc[df.CreditScore ==0])))\n",
    "print(\"# rows missing Geography: {0}\".format(len(df.loc[df.Geography ==0])))\n",
    "print(\"# rows missing EstimatedSalary: {0}\".format(len(df.loc[df.EstimatedSalary ==0])))"
   ]
  },
  {
   "source": [
    "## Training initial Algorithm - Naive Bayes"
   ],
   "cell_type": "markdown",
   "metadata": {}
  },
  {
   "cell_type": "code",
   "execution_count": 100,
   "metadata": {},
   "outputs": [
    {
     "output_type": "execute_result",
     "data": {
      "text/plain": [
       "GaussianNB()"
      ]
     },
     "metadata": {},
     "execution_count": 100
    }
   ],
   "source": [
    "from sklearn.naive_bayes import GaussianNB\n",
    "\n",
    "nb_model = GaussianNB()\n",
    "nb_model.fit(x_train,y_train.ravel())"
   ]
  },
  {
   "source": [
    "## Performance on Training Data"
   ],
   "cell_type": "markdown",
   "metadata": {}
  },
  {
   "cell_type": "code",
   "execution_count": 101,
   "metadata": {},
   "outputs": [
    {
     "output_type": "stream",
     "name": "stdout",
     "text": [
      "Accuracy: 0.7813\n"
     ]
    }
   ],
   "source": [
    "nb_predict_train = nb_model.predict(x_train)\n",
    "\n",
    "from sklearn import metrics\n",
    "\n",
    "print('Accuracy: {0:.4f}'.format(metrics.accuracy_score(y_train,nb_predict_train)))"
   ]
  },
  {
   "source": [
    "## Performance on Testing Data\n"
   ],
   "cell_type": "markdown",
   "metadata": {}
  },
  {
   "cell_type": "code",
   "execution_count": 106,
   "metadata": {},
   "outputs": [
    {
     "output_type": "stream",
     "name": "stdout",
     "text": [
      "Accuracy: 0.7920\n"
     ]
    }
   ],
   "source": [
    "nb_predict_test = nb_model.predict(x_test)\n",
    "print('Accuracy: {0:.4f}'.format(metrics.accuracy_score(y_test,nb_predict_test)))"
   ]
  },
  {
   "source": [
    "## Metrics"
   ],
   "cell_type": "markdown",
   "metadata": {}
  },
  {
   "cell_type": "code",
   "execution_count": 109,
   "metadata": {},
   "outputs": [
    {
     "output_type": "stream",
     "name": "stdout",
     "text": [
      "Confusion Matrix\n[[2333   83]\n [ 541   43]]\n\nClassification Report\n              precision    recall  f1-score   support\n\n           0       0.81      0.97      0.88      2416\n           1       0.34      0.07      0.12       584\n\n    accuracy                           0.79      3000\n   macro avg       0.58      0.52      0.50      3000\nweighted avg       0.72      0.79      0.73      3000\n\n"
     ]
    }
   ],
   "source": [
    "print('Confusion Matrix')\n",
    "print('{0}'.format(metrics.confusion_matrix(y_test, nb_predict_test)))\n",
    "print('')\n",
    "print('Classification Report')\n",
    "print(metrics.classification_report(y_test, nb_predict_test))"
   ]
  },
  {
   "cell_type": "code",
   "execution_count": null,
   "metadata": {},
   "outputs": [],
   "source": []
  }
 ]
}